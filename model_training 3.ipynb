{
 "cells": [
  {
   "cell_type": "markdown",
   "id": "6ac638ee",
   "metadata": {},
   "source": [
    "# Data Engineering Concept MiniProject\n",
    "\n",
    "## Panel G Batch G1\n",
    "\n",
    "## 1. Anish Ranjan        PG-03\n",
    "## 2. Lavanya Singh       PG-20\n",
    "## 3. Saurabh Advani      PG-25\n",
    "## 4. Malay Jignesh Shah  PG-26"
   ]
  },
  {
   "cell_type": "code",
   "execution_count": 42,
   "id": "339f54a2",
   "metadata": {},
   "outputs": [],
   "source": [
    "import numpy as np\n",
    "import pandas as pd"
   ]
  },
  {
   "cell_type": "code",
   "execution_count": 43,
   "id": "ea5c878e",
   "metadata": {},
   "outputs": [],
   "source": [
    "movies_data = pd.read_csv(\"C:\\\\Users\\\\malay\\\\OneDrive\\\\Desktop\\\\Ma-Sa-La\\\\201811.csv\")"
   ]
  },
  {
   "cell_type": "code",
   "execution_count": 44,
   "id": "94190262",
   "metadata": {},
   "outputs": [
    {
     "data": {
      "text/html": [
       "<div>\n",
       "<style scoped>\n",
       "    .dataframe tbody tr th:only-of-type {\n",
       "        vertical-align: middle;\n",
       "    }\n",
       "\n",
       "    .dataframe tbody tr th {\n",
       "        vertical-align: top;\n",
       "    }\n",
       "\n",
       "    .dataframe thead th {\n",
       "        text-align: right;\n",
       "    }\n",
       "</style>\n",
       "<table border=\"1\" class=\"dataframe\">\n",
       "  <thead>\n",
       "    <tr style=\"text-align: right;\">\n",
       "      <th></th>\n",
       "      <th>Unnamed: 0</th>\n",
       "      <th>Title</th>\n",
       "      <th>listeritemindex</th>\n",
       "      <th>Year</th>\n",
       "      <th>certificate</th>\n",
       "      <th>Time</th>\n",
       "      <th>genre</th>\n",
       "      <th>genre1</th>\n",
       "      <th>genre2</th>\n",
       "      <th>inlineblock</th>\n",
       "      <th>Score</th>\n",
       "      <th>summary</th>\n",
       "      <th>director1</th>\n",
       "      <th>director2</th>\n",
       "      <th>cast1</th>\n",
       "      <th>cast2</th>\n",
       "      <th>cast3</th>\n",
       "      <th>cast4</th>\n",
       "      <th>number of votes</th>\n",
       "      <th>gross revenue</th>\n",
       "    </tr>\n",
       "  </thead>\n",
       "  <tbody>\n",
       "    <tr>\n",
       "      <th>0</th>\n",
       "      <td>0</td>\n",
       "      <td>The Nun</td>\n",
       "      <td>1</td>\n",
       "      <td>-2018</td>\n",
       "      <td>R</td>\n",
       "      <td>96 min</td>\n",
       "      <td>Horror</td>\n",
       "      <td>Mystery</td>\n",
       "      <td>Thriller</td>\n",
       "      <td>5.3</td>\n",
       "      <td>\\n46        \\n        Metascore\\n</td>\n",
       "      <td>A priest with a haunted past and a novice on t...</td>\n",
       "      <td>Director:Corin Hardy                 |    ...</td>\n",
       "      <td>Corin Hardy</td>\n",
       "      <td>Demián Bichir</td>\n",
       "      <td>Taissa Farmiga</td>\n",
       "      <td>Jonas Bloquet</td>\n",
       "      <td>Bonnie Aarons</td>\n",
       "      <td>1,60,674</td>\n",
       "      <td>$117.45M</td>\n",
       "    </tr>\n",
       "    <tr>\n",
       "      <th>1</th>\n",
       "      <td>1</td>\n",
       "      <td>The Meg</td>\n",
       "      <td>2</td>\n",
       "      <td>-2018</td>\n",
       "      <td>PG-13</td>\n",
       "      <td>113 min</td>\n",
       "      <td>Action</td>\n",
       "      <td>Horror</td>\n",
       "      <td>Sci-Fi</td>\n",
       "      <td>5.6</td>\n",
       "      <td>\\n46        \\n        Metascore\\n</td>\n",
       "      <td>A group of scientists exploring the Marianas T...</td>\n",
       "      <td>Director:Jon Turteltaub                 | ...</td>\n",
       "      <td>Jon Turteltaub</td>\n",
       "      <td>Jason Statham</td>\n",
       "      <td>Bingbing Li</td>\n",
       "      <td>Rainn Wilson</td>\n",
       "      <td>Cliff Curtis</td>\n",
       "      <td>1,99,450</td>\n",
       "      <td>$143.01M</td>\n",
       "    </tr>\n",
       "    <tr>\n",
       "      <th>2</th>\n",
       "      <td>2</td>\n",
       "      <td>Hereditary</td>\n",
       "      <td>3</td>\n",
       "      <td>-2018</td>\n",
       "      <td>R</td>\n",
       "      <td>127 min</td>\n",
       "      <td>Drama</td>\n",
       "      <td>Horror</td>\n",
       "      <td>Mystery</td>\n",
       "      <td>7.3</td>\n",
       "      <td>\\n87        \\n        Metascore\\n</td>\n",
       "      <td>A grieving family is haunted by tragic and dis...</td>\n",
       "      <td>Director:Ari Aster                 |     S...</td>\n",
       "      <td>Ari Aster</td>\n",
       "      <td>Toni Collette</td>\n",
       "      <td>Milly Shapiro</td>\n",
       "      <td>Gabriel Byrne</td>\n",
       "      <td>Alex Wolff</td>\n",
       "      <td>3,56,081</td>\n",
       "      <td>$44.07M</td>\n",
       "    </tr>\n",
       "    <tr>\n",
       "      <th>3</th>\n",
       "      <td>3</td>\n",
       "      <td>The Equalizer 2</td>\n",
       "      <td>4</td>\n",
       "      <td>-2018</td>\n",
       "      <td>R</td>\n",
       "      <td>121 min</td>\n",
       "      <td>Action</td>\n",
       "      <td>Crime</td>\n",
       "      <td>Thriller</td>\n",
       "      <td>6.7</td>\n",
       "      <td>\\n50        \\n        Metascore\\n</td>\n",
       "      <td>Robert McCall serves an unflinching justice fo...</td>\n",
       "      <td>Director:Antoine Fuqua                 |  ...</td>\n",
       "      <td>Antoine Fuqua</td>\n",
       "      <td>Denzel Washington</td>\n",
       "      <td>Pedro Pascal</td>\n",
       "      <td>Ashton Sanders</td>\n",
       "      <td>Orson Bean</td>\n",
       "      <td>1,81,842</td>\n",
       "      <td>$102.08M</td>\n",
       "    </tr>\n",
       "    <tr>\n",
       "      <th>4</th>\n",
       "      <td>4</td>\n",
       "      <td>Halloween</td>\n",
       "      <td>5</td>\n",
       "      <td>(I) (2018)</td>\n",
       "      <td>R</td>\n",
       "      <td>106 min</td>\n",
       "      <td>Crime</td>\n",
       "      <td>Horror</td>\n",
       "      <td>Thriller</td>\n",
       "      <td>6.5</td>\n",
       "      <td>\\n67        \\n        Metascore\\n</td>\n",
       "      <td>Laurie Strode confronts her long-time foe, Mic...</td>\n",
       "      <td>Director:David Gordon Green               ...</td>\n",
       "      <td>David Gordon Green</td>\n",
       "      <td>Jamie Lee Curtis</td>\n",
       "      <td>Judy Greer</td>\n",
       "      <td>Andi Matichak</td>\n",
       "      <td>James Jude Courtney</td>\n",
       "      <td>1,63,920</td>\n",
       "      <td>$159.34M</td>\n",
       "    </tr>\n",
       "    <tr>\n",
       "      <th>...</th>\n",
       "      <td>...</td>\n",
       "      <td>...</td>\n",
       "      <td>...</td>\n",
       "      <td>...</td>\n",
       "      <td>...</td>\n",
       "      <td>...</td>\n",
       "      <td>...</td>\n",
       "      <td>...</td>\n",
       "      <td>...</td>\n",
       "      <td>...</td>\n",
       "      <td>...</td>\n",
       "      <td>...</td>\n",
       "      <td>...</td>\n",
       "      <td>...</td>\n",
       "      <td>...</td>\n",
       "      <td>...</td>\n",
       "      <td>...</td>\n",
       "      <td>...</td>\n",
       "      <td>...</td>\n",
       "      <td>...</td>\n",
       "    </tr>\n",
       "    <tr>\n",
       "      <th>95</th>\n",
       "      <td>95</td>\n",
       "      <td>Malevolent</td>\n",
       "      <td>96</td>\n",
       "      <td>(III) (2018)</td>\n",
       "      <td>TV-MA</td>\n",
       "      <td>89 min</td>\n",
       "      <td>Horror</td>\n",
       "      <td>Mystery</td>\n",
       "      <td>Thriller</td>\n",
       "      <td>4.8</td>\n",
       "      <td>NaN</td>\n",
       "      <td>A team of scam artists get more than they barg...</td>\n",
       "      <td>Director:Olaf de Fleur Johannesson        ...</td>\n",
       "      <td>Olaf de Fleur Johannesson</td>\n",
       "      <td>Florence Pugh</td>\n",
       "      <td>Ben Lloyd-Hughes</td>\n",
       "      <td>Scott Chambers</td>\n",
       "      <td>Georgina Bevan</td>\n",
       "      <td>16,268</td>\n",
       "      <td>NaN</td>\n",
       "    </tr>\n",
       "    <tr>\n",
       "      <th>96</th>\n",
       "      <td>96</td>\n",
       "      <td>The Matchmaker's Playbook</td>\n",
       "      <td>97</td>\n",
       "      <td>-2018</td>\n",
       "      <td>NaN</td>\n",
       "      <td>89 min</td>\n",
       "      <td>Comedy</td>\n",
       "      <td>Romance</td>\n",
       "      <td>NaN</td>\n",
       "      <td>6.2</td>\n",
       "      <td>NaN</td>\n",
       "      <td>After a career-ending accident, former NFL rec...</td>\n",
       "      <td>Director:Tosca Musk                 |     ...</td>\n",
       "      <td>Tosca Musk</td>\n",
       "      <td>Nick Bateman</td>\n",
       "      <td>Caitlin Carver</td>\n",
       "      <td>Tyler Johnson</td>\n",
       "      <td>Justene Alpert</td>\n",
       "      <td>2,160</td>\n",
       "      <td>NaN</td>\n",
       "    </tr>\n",
       "    <tr>\n",
       "      <th>97</th>\n",
       "      <td>97</td>\n",
       "      <td>Mary Queen of Scots</td>\n",
       "      <td>98</td>\n",
       "      <td>-2018</td>\n",
       "      <td>R</td>\n",
       "      <td>124 min</td>\n",
       "      <td>Biography</td>\n",
       "      <td>Drama</td>\n",
       "      <td>History</td>\n",
       "      <td>6.3</td>\n",
       "      <td>\\n60        \\n        Metascore\\n</td>\n",
       "      <td>Mary Stuart's (Saoirse Ronan's) attempt to ove...</td>\n",
       "      <td>Director:Josie Rourke                 |   ...</td>\n",
       "      <td>Josie Rourke</td>\n",
       "      <td>Saoirse Ronan</td>\n",
       "      <td>Margot Robbie</td>\n",
       "      <td>Jack Lowden</td>\n",
       "      <td>Joe Alwyn</td>\n",
       "      <td>53,785</td>\n",
       "      <td>$16.47M</td>\n",
       "    </tr>\n",
       "    <tr>\n",
       "      <th>98</th>\n",
       "      <td>98</td>\n",
       "      <td>Possum</td>\n",
       "      <td>99</td>\n",
       "      <td>-2018</td>\n",
       "      <td>NaN</td>\n",
       "      <td>85 min</td>\n",
       "      <td>Drama</td>\n",
       "      <td>Horror</td>\n",
       "      <td>Mystery</td>\n",
       "      <td>5.8</td>\n",
       "      <td>\\n64        \\n        Metascore\\n</td>\n",
       "      <td>After returning to his childhood home, a disgr...</td>\n",
       "      <td>Director:Matthew Holness                 |...</td>\n",
       "      <td>Matthew Holness</td>\n",
       "      <td>Sean Harris</td>\n",
       "      <td>Alun Armstrong</td>\n",
       "      <td>Andy Blithe</td>\n",
       "      <td>Ryan Enever</td>\n",
       "      <td>8,210</td>\n",
       "      <td>NaN</td>\n",
       "    </tr>\n",
       "    <tr>\n",
       "      <th>99</th>\n",
       "      <td>99</td>\n",
       "      <td>Shoplifters</td>\n",
       "      <td>100</td>\n",
       "      <td>-2018</td>\n",
       "      <td>R</td>\n",
       "      <td>121 min</td>\n",
       "      <td>Crime</td>\n",
       "      <td>Drama</td>\n",
       "      <td>Thriller</td>\n",
       "      <td>7.9</td>\n",
       "      <td>\\n93        \\n        Metascore\\n</td>\n",
       "      <td>On the margins of Tokyo, a dysfunctional band ...</td>\n",
       "      <td>Director:Hirokazu Koreeda                 ...</td>\n",
       "      <td>Hirokazu Koreeda</td>\n",
       "      <td>Lily Franky</td>\n",
       "      <td>Sakura Ando</td>\n",
       "      <td>Kirin Kiki</td>\n",
       "      <td>Mayu Matsuoka</td>\n",
       "      <td>82,848</td>\n",
       "      <td>$3.31M</td>\n",
       "    </tr>\n",
       "  </tbody>\n",
       "</table>\n",
       "<p>100 rows × 20 columns</p>\n",
       "</div>"
      ],
      "text/plain": [
       "    Unnamed: 0                      Title listeritemindex          Year  \\\n",
       "0            0                    The Nun               1         -2018   \n",
       "1            1                    The Meg               2         -2018   \n",
       "2            2                 Hereditary               3         -2018   \n",
       "3            3            The Equalizer 2               4         -2018   \n",
       "4            4                  Halloween               5    (I) (2018)   \n",
       "..         ...                        ...             ...           ...   \n",
       "95          95                 Malevolent              96  (III) (2018)   \n",
       "96          96  The Matchmaker's Playbook              97         -2018   \n",
       "97          97        Mary Queen of Scots              98         -2018   \n",
       "98          98                     Possum              99         -2018   \n",
       "99          99                Shoplifters             100         -2018   \n",
       "\n",
       "   certificate     Time      genre                genre1  \\\n",
       "0            R   96 min     Horror               Mystery   \n",
       "1        PG-13  113 min     Action                Horror   \n",
       "2            R  127 min      Drama                Horror   \n",
       "3            R  121 min     Action                 Crime   \n",
       "4            R  106 min      Crime                Horror   \n",
       "..         ...      ...        ...                   ...   \n",
       "95       TV-MA   89 min     Horror               Mystery   \n",
       "96         NaN   89 min     Comedy   Romance               \n",
       "97           R  124 min  Biography                 Drama   \n",
       "98         NaN   85 min      Drama                Horror   \n",
       "99           R  121 min      Crime                 Drama   \n",
       "\n",
       "                   genre2  inlineblock  \\\n",
       "0    Thriller                      5.3   \n",
       "1      Sci-Fi                      5.6   \n",
       "2     Mystery                      7.3   \n",
       "3    Thriller                      6.7   \n",
       "4    Thriller                      6.5   \n",
       "..                    ...          ...   \n",
       "95   Thriller                      4.8   \n",
       "96                    NaN          6.2   \n",
       "97    History                      6.3   \n",
       "98    Mystery                      5.8   \n",
       "99   Thriller                      7.9   \n",
       "\n",
       "                                            Score  \\\n",
       "0   \\n46        \\n        Metascore\\n               \n",
       "1   \\n46        \\n        Metascore\\n               \n",
       "2   \\n87        \\n        Metascore\\n               \n",
       "3   \\n50        \\n        Metascore\\n               \n",
       "4   \\n67        \\n        Metascore\\n               \n",
       "..                                            ...   \n",
       "95                                            NaN   \n",
       "96                                            NaN   \n",
       "97  \\n60        \\n        Metascore\\n               \n",
       "98  \\n64        \\n        Metascore\\n               \n",
       "99  \\n93        \\n        Metascore\\n               \n",
       "\n",
       "                                              summary  \\\n",
       "0   A priest with a haunted past and a novice on t...   \n",
       "1   A group of scientists exploring the Marianas T...   \n",
       "2   A grieving family is haunted by tragic and dis...   \n",
       "3   Robert McCall serves an unflinching justice fo...   \n",
       "4   Laurie Strode confronts her long-time foe, Mic...   \n",
       "..                                                ...   \n",
       "95  A team of scam artists get more than they barg...   \n",
       "96  After a career-ending accident, former NFL rec...   \n",
       "97  Mary Stuart's (Saoirse Ronan's) attempt to ove...   \n",
       "98  After returning to his childhood home, a disgr...   \n",
       "99  On the margins of Tokyo, a dysfunctional band ...   \n",
       "\n",
       "                                            director1  \\\n",
       "0       Director:Corin Hardy                 |    ...   \n",
       "1       Director:Jon Turteltaub                 | ...   \n",
       "2       Director:Ari Aster                 |     S...   \n",
       "3       Director:Antoine Fuqua                 |  ...   \n",
       "4       Director:David Gordon Green               ...   \n",
       "..                                                ...   \n",
       "95      Director:Olaf de Fleur Johannesson        ...   \n",
       "96      Director:Tosca Musk                 |     ...   \n",
       "97      Director:Josie Rourke                 |   ...   \n",
       "98      Director:Matthew Holness                 |...   \n",
       "99      Director:Hirokazu Koreeda                 ...   \n",
       "\n",
       "                    director2              cast1             cast2  \\\n",
       "0                 Corin Hardy      Demián Bichir    Taissa Farmiga   \n",
       "1              Jon Turteltaub      Jason Statham       Bingbing Li   \n",
       "2                   Ari Aster      Toni Collette     Milly Shapiro   \n",
       "3               Antoine Fuqua  Denzel Washington      Pedro Pascal   \n",
       "4          David Gordon Green   Jamie Lee Curtis        Judy Greer   \n",
       "..                        ...                ...               ...   \n",
       "95  Olaf de Fleur Johannesson      Florence Pugh  Ben Lloyd-Hughes   \n",
       "96                 Tosca Musk       Nick Bateman    Caitlin Carver   \n",
       "97               Josie Rourke      Saoirse Ronan     Margot Robbie   \n",
       "98            Matthew Holness        Sean Harris    Alun Armstrong   \n",
       "99           Hirokazu Koreeda        Lily Franky       Sakura Ando   \n",
       "\n",
       "             cast3                cast4 number of votes gross revenue  \n",
       "0    Jonas Bloquet        Bonnie Aarons        1,60,674      $117.45M  \n",
       "1     Rainn Wilson         Cliff Curtis        1,99,450      $143.01M  \n",
       "2    Gabriel Byrne           Alex Wolff        3,56,081       $44.07M  \n",
       "3   Ashton Sanders           Orson Bean        1,81,842      $102.08M  \n",
       "4    Andi Matichak  James Jude Courtney        1,63,920      $159.34M  \n",
       "..             ...                  ...             ...           ...  \n",
       "95  Scott Chambers       Georgina Bevan          16,268           NaN  \n",
       "96   Tyler Johnson       Justene Alpert           2,160           NaN  \n",
       "97     Jack Lowden            Joe Alwyn          53,785       $16.47M  \n",
       "98     Andy Blithe          Ryan Enever           8,210           NaN  \n",
       "99      Kirin Kiki        Mayu Matsuoka          82,848        $3.31M  \n",
       "\n",
       "[100 rows x 20 columns]"
      ]
     },
     "execution_count": 44,
     "metadata": {},
     "output_type": "execute_result"
    }
   ],
   "source": [
    "movies_data.head(100)"
   ]
  },
  {
   "cell_type": "markdown",
   "id": "ec085e58",
   "metadata": {},
   "source": [
    "# Data Cleaning"
   ]
  },
  {
   "cell_type": "code",
   "execution_count": 45,
   "id": "b1ef56ed",
   "metadata": {},
   "outputs": [],
   "source": [
    "columns_to_drop = ['Unnamed: 0', 'listeritemindex', 'Year','certificate', 'Time', 'Score', 'summary', 'director1', 'director2', 'cast1', 'cast2', 'cast3','cast4','number of votes','gross revenue','genre1','genre2']\n",
    "\n",
    "movies_data.drop(columns=columns_to_drop, inplace=True)"
   ]
  },
  {
   "cell_type": "code",
   "execution_count": 46,
   "id": "65523601",
   "metadata": {},
   "outputs": [
    {
     "data": {
      "text/html": [
       "<div>\n",
       "<style scoped>\n",
       "    .dataframe tbody tr th:only-of-type {\n",
       "        vertical-align: middle;\n",
       "    }\n",
       "\n",
       "    .dataframe tbody tr th {\n",
       "        vertical-align: top;\n",
       "    }\n",
       "\n",
       "    .dataframe thead th {\n",
       "        text-align: right;\n",
       "    }\n",
       "</style>\n",
       "<table border=\"1\" class=\"dataframe\">\n",
       "  <thead>\n",
       "    <tr style=\"text-align: right;\">\n",
       "      <th></th>\n",
       "      <th>Title</th>\n",
       "      <th>genre</th>\n",
       "      <th>inlineblock</th>\n",
       "    </tr>\n",
       "  </thead>\n",
       "  <tbody>\n",
       "    <tr>\n",
       "      <th>0</th>\n",
       "      <td>The Nun</td>\n",
       "      <td>Horror</td>\n",
       "      <td>5.3</td>\n",
       "    </tr>\n",
       "    <tr>\n",
       "      <th>1</th>\n",
       "      <td>The Meg</td>\n",
       "      <td>Action</td>\n",
       "      <td>5.6</td>\n",
       "    </tr>\n",
       "    <tr>\n",
       "      <th>2</th>\n",
       "      <td>Hereditary</td>\n",
       "      <td>Drama</td>\n",
       "      <td>7.3</td>\n",
       "    </tr>\n",
       "    <tr>\n",
       "      <th>3</th>\n",
       "      <td>The Equalizer 2</td>\n",
       "      <td>Action</td>\n",
       "      <td>6.7</td>\n",
       "    </tr>\n",
       "    <tr>\n",
       "      <th>4</th>\n",
       "      <td>Halloween</td>\n",
       "      <td>Crime</td>\n",
       "      <td>6.5</td>\n",
       "    </tr>\n",
       "    <tr>\n",
       "      <th>...</th>\n",
       "      <td>...</td>\n",
       "      <td>...</td>\n",
       "      <td>...</td>\n",
       "    </tr>\n",
       "    <tr>\n",
       "      <th>95</th>\n",
       "      <td>Malevolent</td>\n",
       "      <td>Horror</td>\n",
       "      <td>4.8</td>\n",
       "    </tr>\n",
       "    <tr>\n",
       "      <th>96</th>\n",
       "      <td>The Matchmaker's Playbook</td>\n",
       "      <td>Comedy</td>\n",
       "      <td>6.2</td>\n",
       "    </tr>\n",
       "    <tr>\n",
       "      <th>97</th>\n",
       "      <td>Mary Queen of Scots</td>\n",
       "      <td>Biography</td>\n",
       "      <td>6.3</td>\n",
       "    </tr>\n",
       "    <tr>\n",
       "      <th>98</th>\n",
       "      <td>Possum</td>\n",
       "      <td>Drama</td>\n",
       "      <td>5.8</td>\n",
       "    </tr>\n",
       "    <tr>\n",
       "      <th>99</th>\n",
       "      <td>Shoplifters</td>\n",
       "      <td>Crime</td>\n",
       "      <td>7.9</td>\n",
       "    </tr>\n",
       "  </tbody>\n",
       "</table>\n",
       "<p>100 rows × 3 columns</p>\n",
       "</div>"
      ],
      "text/plain": [
       "                        Title      genre  inlineblock\n",
       "0                     The Nun     Horror          5.3\n",
       "1                     The Meg     Action          5.6\n",
       "2                  Hereditary      Drama          7.3\n",
       "3             The Equalizer 2     Action          6.7\n",
       "4                   Halloween      Crime          6.5\n",
       "..                        ...        ...          ...\n",
       "95                 Malevolent     Horror          4.8\n",
       "96  The Matchmaker's Playbook     Comedy          6.2\n",
       "97        Mary Queen of Scots  Biography          6.3\n",
       "98                     Possum      Drama          5.8\n",
       "99                Shoplifters      Crime          7.9\n",
       "\n",
       "[100 rows x 3 columns]"
      ]
     },
     "execution_count": 46,
     "metadata": {},
     "output_type": "execute_result"
    }
   ],
   "source": [
    "movies_data.head(100)"
   ]
  },
  {
   "cell_type": "code",
   "execution_count": 47,
   "id": "f58ad9f9",
   "metadata": {},
   "outputs": [
    {
     "data": {
      "text/html": [
       "<div>\n",
       "<style scoped>\n",
       "    .dataframe tbody tr th:only-of-type {\n",
       "        vertical-align: middle;\n",
       "    }\n",
       "\n",
       "    .dataframe tbody tr th {\n",
       "        vertical-align: top;\n",
       "    }\n",
       "\n",
       "    .dataframe thead th {\n",
       "        text-align: right;\n",
       "    }\n",
       "</style>\n",
       "<table border=\"1\" class=\"dataframe\">\n",
       "  <thead>\n",
       "    <tr style=\"text-align: right;\">\n",
       "      <th></th>\n",
       "      <th>Title</th>\n",
       "      <th>genre</th>\n",
       "      <th>inlineblock</th>\n",
       "    </tr>\n",
       "  </thead>\n",
       "  <tbody>\n",
       "    <tr>\n",
       "      <th>9200</th>\n",
       "      <td>Detective Dee: Beauty from the West</td>\n",
       "      <td>Action</td>\n",
       "      <td>NaN</td>\n",
       "    </tr>\n",
       "    <tr>\n",
       "      <th>9201</th>\n",
       "      <td>Something Inside Is Broken</td>\n",
       "      <td>Musical</td>\n",
       "      <td>NaN</td>\n",
       "    </tr>\n",
       "    <tr>\n",
       "      <th>9202</th>\n",
       "      <td>Future Chase</td>\n",
       "      <td>Action</td>\n",
       "      <td>NaN</td>\n",
       "    </tr>\n",
       "    <tr>\n",
       "      <th>9203</th>\n",
       "      <td>Thin Line</td>\n",
       "      <td>Drama</td>\n",
       "      <td>NaN</td>\n",
       "    </tr>\n",
       "    <tr>\n",
       "      <th>9204</th>\n",
       "      <td>The Right Path</td>\n",
       "      <td>Drama</td>\n",
       "      <td>NaN</td>\n",
       "    </tr>\n",
       "    <tr>\n",
       "      <th>...</th>\n",
       "      <td>...</td>\n",
       "      <td>...</td>\n",
       "      <td>...</td>\n",
       "    </tr>\n",
       "    <tr>\n",
       "      <th>9295</th>\n",
       "      <td>No maku bakuhai to</td>\n",
       "      <td>Drama</td>\n",
       "      <td>NaN</td>\n",
       "    </tr>\n",
       "    <tr>\n",
       "      <th>9296</th>\n",
       "      <td>The 6th Kiss</td>\n",
       "      <td>Comedy</td>\n",
       "      <td>NaN</td>\n",
       "    </tr>\n",
       "    <tr>\n",
       "      <th>9297</th>\n",
       "      <td>Alibaba Aur 41 Chor</td>\n",
       "      <td>Animation</td>\n",
       "      <td>NaN</td>\n",
       "    </tr>\n",
       "    <tr>\n",
       "      <th>9298</th>\n",
       "      <td>Strong Artificial Intelligence</td>\n",
       "      <td>Action</td>\n",
       "      <td>7.2</td>\n",
       "    </tr>\n",
       "    <tr>\n",
       "      <th>9299</th>\n",
       "      <td>The Mystery of the Man in the Mask</td>\n",
       "      <td>Comedy</td>\n",
       "      <td>NaN</td>\n",
       "    </tr>\n",
       "  </tbody>\n",
       "</table>\n",
       "<p>100 rows × 3 columns</p>\n",
       "</div>"
      ],
      "text/plain": [
       "                                    Title                  genre  inlineblock\n",
       "9200  Detective Dee: Beauty from the West                 Action          NaN\n",
       "9201           Something Inside Is Broken    Musical                      NaN\n",
       "9202                         Future Chase                 Action          NaN\n",
       "9203                            Thin Line      Drama                      NaN\n",
       "9204                       The Right Path      Drama                      NaN\n",
       "...                                   ...                    ...          ...\n",
       "9295                   No maku bakuhai to      Drama                      NaN\n",
       "9296                         The 6th Kiss                 Comedy          NaN\n",
       "9297                  Alibaba Aur 41 Chor  Animation                      NaN\n",
       "9298       Strong Artificial Intelligence                 Action          7.2\n",
       "9299   The Mystery of the Man in the Mask                 Comedy          NaN\n",
       "\n",
       "[100 rows x 3 columns]"
      ]
     },
     "execution_count": 47,
     "metadata": {},
     "output_type": "execute_result"
    }
   ],
   "source": [
    "movies_data.tail(100)"
   ]
  },
  {
   "cell_type": "code",
   "execution_count": 48,
   "id": "fc214597",
   "metadata": {},
   "outputs": [],
   "source": [
    "columns_to_rename = {\n",
    "    'Title': 'movie_name',\n",
    "    'inlineblock': 'imdb_rating'\n",
    "}\n",
    "\n",
    "movies_data.rename(columns=columns_to_rename, inplace=True)"
   ]
  },
  {
   "cell_type": "code",
   "execution_count": 49,
   "id": "e7905fd4",
   "metadata": {},
   "outputs": [
    {
     "data": {
      "text/plain": [
       "1987"
      ]
     },
     "execution_count": 49,
     "metadata": {},
     "output_type": "execute_result"
    }
   ],
   "source": [
    "movies_data['imdb_rating'].isnull().sum()"
   ]
  },
  {
   "cell_type": "code",
   "execution_count": 50,
   "id": "68bdef5b",
   "metadata": {},
   "outputs": [
    {
     "data": {
      "text/html": [
       "<div>\n",
       "<style scoped>\n",
       "    .dataframe tbody tr th:only-of-type {\n",
       "        vertical-align: middle;\n",
       "    }\n",
       "\n",
       "    .dataframe tbody tr th {\n",
       "        vertical-align: top;\n",
       "    }\n",
       "\n",
       "    .dataframe thead th {\n",
       "        text-align: right;\n",
       "    }\n",
       "</style>\n",
       "<table border=\"1\" class=\"dataframe\">\n",
       "  <thead>\n",
       "    <tr style=\"text-align: right;\">\n",
       "      <th></th>\n",
       "      <th>movie_name</th>\n",
       "      <th>genre</th>\n",
       "      <th>imdb_rating</th>\n",
       "    </tr>\n",
       "  </thead>\n",
       "  <tbody>\n",
       "    <tr>\n",
       "      <th>0</th>\n",
       "      <td>The Nun</td>\n",
       "      <td>Horror</td>\n",
       "      <td>5.3</td>\n",
       "    </tr>\n",
       "    <tr>\n",
       "      <th>1</th>\n",
       "      <td>The Meg</td>\n",
       "      <td>Action</td>\n",
       "      <td>5.6</td>\n",
       "    </tr>\n",
       "    <tr>\n",
       "      <th>2</th>\n",
       "      <td>Hereditary</td>\n",
       "      <td>Drama</td>\n",
       "      <td>7.3</td>\n",
       "    </tr>\n",
       "    <tr>\n",
       "      <th>3</th>\n",
       "      <td>The Equalizer 2</td>\n",
       "      <td>Action</td>\n",
       "      <td>6.7</td>\n",
       "    </tr>\n",
       "    <tr>\n",
       "      <th>4</th>\n",
       "      <td>Halloween</td>\n",
       "      <td>Crime</td>\n",
       "      <td>6.5</td>\n",
       "    </tr>\n",
       "  </tbody>\n",
       "</table>\n",
       "</div>"
      ],
      "text/plain": [
       "        movie_name   genre  imdb_rating\n",
       "0          The Nun  Horror          5.3\n",
       "1          The Meg  Action          5.6\n",
       "2       Hereditary   Drama          7.3\n",
       "3  The Equalizer 2  Action          6.7\n",
       "4        Halloween   Crime          6.5"
      ]
     },
     "execution_count": 50,
     "metadata": {},
     "output_type": "execute_result"
    }
   ],
   "source": [
    "movies_data.head()"
   ]
  },
  {
   "cell_type": "code",
   "execution_count": 51,
   "id": "80490681",
   "metadata": {},
   "outputs": [
    {
     "data": {
      "text/plain": [
       "<bound method Series.isnull of 0                      Horror\n",
       "1                      Action\n",
       "2                       Drama\n",
       "3                      Action\n",
       "4                       Crime\n",
       "                ...          \n",
       "9295        Drama            \n",
       "9296                   Comedy\n",
       "9297    Animation            \n",
       "9298                   Action\n",
       "9299                   Comedy\n",
       "Name: genre, Length: 9300, dtype: object>"
      ]
     },
     "execution_count": 51,
     "metadata": {},
     "output_type": "execute_result"
    }
   ],
   "source": [
    "movies_data['genre'].isnull"
   ]
  },
  {
   "cell_type": "markdown",
   "id": "5471e77b",
   "metadata": {},
   "source": [
    "# Data Pre-Processing"
   ]
  },
  {
   "cell_type": "code",
   "execution_count": 52,
   "id": "f145b5e2",
   "metadata": {},
   "outputs": [],
   "source": [
    "mean_rating = movies_data['imdb_rating'].mean()"
   ]
  },
  {
   "cell_type": "code",
   "execution_count": 53,
   "id": "9da02e3c",
   "metadata": {},
   "outputs": [
    {
     "name": "stdout",
     "output_type": "stream",
     "text": [
      "5.8\n"
     ]
    }
   ],
   "source": [
    "rounded = round((mean_rating),1)\n",
    "print(rounded)"
   ]
  },
  {
   "cell_type": "code",
   "execution_count": 54,
   "id": "2830c72b",
   "metadata": {},
   "outputs": [],
   "source": [
    "movies_data['imdb_rating'].fillna(mean_rating, inplace=True)"
   ]
  },
  {
   "cell_type": "code",
   "execution_count": 55,
   "id": "1782de2d",
   "metadata": {},
   "outputs": [
    {
     "data": {
      "text/plain": [
       "0"
      ]
     },
     "execution_count": 55,
     "metadata": {},
     "output_type": "execute_result"
    }
   ],
   "source": [
    "movies_data['imdb_rating'].isnull().sum()"
   ]
  },
  {
   "cell_type": "code",
   "execution_count": 56,
   "id": "95b1d28a",
   "metadata": {},
   "outputs": [
    {
     "name": "stdout",
     "output_type": "stream",
     "text": [
      "['Horror' 'Action' 'Drama' 'Crime' 'Animation' 'Biography' 'Comedy'\n",
      " 'Adventure' 'Drama            ' 'Horror            ' 'Mystery'\n",
      " 'Comedy            ' 'Fantasy' 'Romance            '\n",
      " 'Thriller            ' 'Action            ' 'History'\n",
      " 'Sci-Fi            ' 'Family' 'Crime            ' 'Family            '\n",
      " 'Animation            ' 'Music' 'Musical            ' 'Sci-Fi'\n",
      " 'Fantasy            ' 'Romance' 'History            '\n",
      " 'Western            ' 'War            ' 'Adventure            '\n",
      " 'Biography            ' nan 'Mystery            ' 'Music            '\n",
      " 'Sport            ' 'Reality-TV            ' 'Thriller' 'Musical'\n",
      " 'Talk-Show            ']\n"
     ]
    }
   ],
   "source": [
    "unique_values = movies_data['genre'].unique()\n",
    "print(unique_values)"
   ]
  },
  {
   "cell_type": "code",
   "execution_count": 57,
   "id": "36f92b86",
   "metadata": {},
   "outputs": [
    {
     "name": "stdout",
     "output_type": "stream",
     "text": [
      "genre\n",
      "Drama                     2196\n",
      "Comedy                    1219\n",
      "Drama                     1047\n",
      "Comedy                     866\n",
      "Action                     801\n",
      "Horror                     428\n",
      "Thriller                   327\n",
      "Crime                      310\n",
      "Horror                     236\n",
      "Adventure                  227\n",
      "Action                     201\n",
      "Animation                  196\n",
      "Romance                    179\n",
      "Biography                  154\n",
      "Family                      75\n",
      "Animation                   70\n",
      "Crime                       63\n",
      "Sci-Fi                      58\n",
      "Fantasy                     54\n",
      "Musical                     43\n",
      "Mystery                     43\n",
      "Mystery                     39\n",
      "Fantasy                     39\n",
      "Music                       38\n",
      "Biography                   27\n",
      "History                     24\n",
      "Adventure                   23\n",
      "War                         19\n",
      "Sport                       17\n",
      "Western                     15\n",
      "Family                      13\n",
      "Romance                     13\n",
      "Sci-Fi                      11\n",
      "Music                        8\n",
      "History                      6\n",
      "Musical                      2\n",
      "Reality-TV                   1\n",
      "Thriller                     1\n",
      "Talk-Show                    1\n",
      "Name: count, dtype: int64\n"
     ]
    }
   ],
   "source": [
    "value_counts = movies_data['genre'].value_counts()\n",
    "print(value_counts)"
   ]
  },
  {
   "cell_type": "code",
   "execution_count": 58,
   "id": "07023be2",
   "metadata": {},
   "outputs": [],
   "source": [
    "movies_data_merged = movies_data.groupby('genre').size().reset_index(name='count')"
   ]
  },
  {
   "cell_type": "code",
   "execution_count": 59,
   "id": "07e3b821",
   "metadata": {},
   "outputs": [
    {
     "data": {
      "text/html": [
       "<div>\n",
       "<style scoped>\n",
       "    .dataframe tbody tr th:only-of-type {\n",
       "        vertical-align: middle;\n",
       "    }\n",
       "\n",
       "    .dataframe tbody tr th {\n",
       "        vertical-align: top;\n",
       "    }\n",
       "\n",
       "    .dataframe thead th {\n",
       "        text-align: right;\n",
       "    }\n",
       "</style>\n",
       "<table border=\"1\" class=\"dataframe\">\n",
       "  <thead>\n",
       "    <tr style=\"text-align: right;\">\n",
       "      <th></th>\n",
       "      <th>genre</th>\n",
       "      <th>count</th>\n",
       "    </tr>\n",
       "  </thead>\n",
       "  <tbody>\n",
       "    <tr>\n",
       "      <th>0</th>\n",
       "      <td>Action</td>\n",
       "      <td>801</td>\n",
       "    </tr>\n",
       "    <tr>\n",
       "      <th>1</th>\n",
       "      <td>Action</td>\n",
       "      <td>201</td>\n",
       "    </tr>\n",
       "    <tr>\n",
       "      <th>2</th>\n",
       "      <td>Adventure</td>\n",
       "      <td>227</td>\n",
       "    </tr>\n",
       "    <tr>\n",
       "      <th>3</th>\n",
       "      <td>Adventure</td>\n",
       "      <td>23</td>\n",
       "    </tr>\n",
       "    <tr>\n",
       "      <th>4</th>\n",
       "      <td>Animation</td>\n",
       "      <td>196</td>\n",
       "    </tr>\n",
       "    <tr>\n",
       "      <th>5</th>\n",
       "      <td>Animation</td>\n",
       "      <td>70</td>\n",
       "    </tr>\n",
       "    <tr>\n",
       "      <th>6</th>\n",
       "      <td>Biography</td>\n",
       "      <td>154</td>\n",
       "    </tr>\n",
       "    <tr>\n",
       "      <th>7</th>\n",
       "      <td>Biography</td>\n",
       "      <td>27</td>\n",
       "    </tr>\n",
       "    <tr>\n",
       "      <th>8</th>\n",
       "      <td>Comedy</td>\n",
       "      <td>1219</td>\n",
       "    </tr>\n",
       "    <tr>\n",
       "      <th>9</th>\n",
       "      <td>Comedy</td>\n",
       "      <td>866</td>\n",
       "    </tr>\n",
       "    <tr>\n",
       "      <th>10</th>\n",
       "      <td>Crime</td>\n",
       "      <td>310</td>\n",
       "    </tr>\n",
       "    <tr>\n",
       "      <th>11</th>\n",
       "      <td>Crime</td>\n",
       "      <td>63</td>\n",
       "    </tr>\n",
       "    <tr>\n",
       "      <th>12</th>\n",
       "      <td>Drama</td>\n",
       "      <td>1047</td>\n",
       "    </tr>\n",
       "    <tr>\n",
       "      <th>13</th>\n",
       "      <td>Drama</td>\n",
       "      <td>2196</td>\n",
       "    </tr>\n",
       "    <tr>\n",
       "      <th>14</th>\n",
       "      <td>Family</td>\n",
       "      <td>13</td>\n",
       "    </tr>\n",
       "    <tr>\n",
       "      <th>15</th>\n",
       "      <td>Family</td>\n",
       "      <td>75</td>\n",
       "    </tr>\n",
       "    <tr>\n",
       "      <th>16</th>\n",
       "      <td>Fantasy</td>\n",
       "      <td>54</td>\n",
       "    </tr>\n",
       "    <tr>\n",
       "      <th>17</th>\n",
       "      <td>Fantasy</td>\n",
       "      <td>39</td>\n",
       "    </tr>\n",
       "    <tr>\n",
       "      <th>18</th>\n",
       "      <td>History</td>\n",
       "      <td>6</td>\n",
       "    </tr>\n",
       "    <tr>\n",
       "      <th>19</th>\n",
       "      <td>History</td>\n",
       "      <td>24</td>\n",
       "    </tr>\n",
       "    <tr>\n",
       "      <th>20</th>\n",
       "      <td>Horror</td>\n",
       "      <td>236</td>\n",
       "    </tr>\n",
       "    <tr>\n",
       "      <th>21</th>\n",
       "      <td>Horror</td>\n",
       "      <td>428</td>\n",
       "    </tr>\n",
       "    <tr>\n",
       "      <th>22</th>\n",
       "      <td>Music</td>\n",
       "      <td>8</td>\n",
       "    </tr>\n",
       "    <tr>\n",
       "      <th>23</th>\n",
       "      <td>Music</td>\n",
       "      <td>38</td>\n",
       "    </tr>\n",
       "    <tr>\n",
       "      <th>24</th>\n",
       "      <td>Musical</td>\n",
       "      <td>2</td>\n",
       "    </tr>\n",
       "    <tr>\n",
       "      <th>25</th>\n",
       "      <td>Musical</td>\n",
       "      <td>43</td>\n",
       "    </tr>\n",
       "    <tr>\n",
       "      <th>26</th>\n",
       "      <td>Mystery</td>\n",
       "      <td>39</td>\n",
       "    </tr>\n",
       "    <tr>\n",
       "      <th>27</th>\n",
       "      <td>Mystery</td>\n",
       "      <td>43</td>\n",
       "    </tr>\n",
       "    <tr>\n",
       "      <th>28</th>\n",
       "      <td>Reality-TV</td>\n",
       "      <td>1</td>\n",
       "    </tr>\n",
       "    <tr>\n",
       "      <th>29</th>\n",
       "      <td>Romance</td>\n",
       "      <td>13</td>\n",
       "    </tr>\n",
       "    <tr>\n",
       "      <th>30</th>\n",
       "      <td>Romance</td>\n",
       "      <td>179</td>\n",
       "    </tr>\n",
       "    <tr>\n",
       "      <th>31</th>\n",
       "      <td>Sci-Fi</td>\n",
       "      <td>11</td>\n",
       "    </tr>\n",
       "    <tr>\n",
       "      <th>32</th>\n",
       "      <td>Sci-Fi</td>\n",
       "      <td>58</td>\n",
       "    </tr>\n",
       "    <tr>\n",
       "      <th>33</th>\n",
       "      <td>Sport</td>\n",
       "      <td>17</td>\n",
       "    </tr>\n",
       "    <tr>\n",
       "      <th>34</th>\n",
       "      <td>Talk-Show</td>\n",
       "      <td>1</td>\n",
       "    </tr>\n",
       "    <tr>\n",
       "      <th>35</th>\n",
       "      <td>Thriller</td>\n",
       "      <td>1</td>\n",
       "    </tr>\n",
       "    <tr>\n",
       "      <th>36</th>\n",
       "      <td>Thriller</td>\n",
       "      <td>327</td>\n",
       "    </tr>\n",
       "    <tr>\n",
       "      <th>37</th>\n",
       "      <td>War</td>\n",
       "      <td>19</td>\n",
       "    </tr>\n",
       "    <tr>\n",
       "      <th>38</th>\n",
       "      <td>Western</td>\n",
       "      <td>15</td>\n",
       "    </tr>\n",
       "  </tbody>\n",
       "</table>\n",
       "</div>"
      ],
      "text/plain": [
       "                     genre  count\n",
       "0                   Action    801\n",
       "1       Action                201\n",
       "2                Adventure    227\n",
       "3    Adventure                 23\n",
       "4                Animation    196\n",
       "5    Animation                 70\n",
       "6                Biography    154\n",
       "7    Biography                 27\n",
       "8                   Comedy   1219\n",
       "9       Comedy                866\n",
       "10                   Crime    310\n",
       "11       Crime                 63\n",
       "12                   Drama   1047\n",
       "13       Drama               2196\n",
       "14                  Family     13\n",
       "15      Family                 75\n",
       "16                 Fantasy     54\n",
       "17     Fantasy                 39\n",
       "18                 History      6\n",
       "19     History                 24\n",
       "20                  Horror    236\n",
       "21      Horror                428\n",
       "22                   Music      8\n",
       "23       Music                 38\n",
       "24                 Musical      2\n",
       "25     Musical                 43\n",
       "26                 Mystery     39\n",
       "27     Mystery                 43\n",
       "28  Reality-TV                  1\n",
       "29                 Romance     13\n",
       "30     Romance                179\n",
       "31                  Sci-Fi     11\n",
       "32      Sci-Fi                 58\n",
       "33       Sport                 17\n",
       "34   Talk-Show                  1\n",
       "35                Thriller      1\n",
       "36    Thriller                327\n",
       "37         War                 19\n",
       "38     Western                 15"
      ]
     },
     "execution_count": 59,
     "metadata": {},
     "output_type": "execute_result"
    }
   ],
   "source": [
    "movies_data_merged"
   ]
  },
  {
   "cell_type": "code",
   "execution_count": 60,
   "id": "5517ed2c",
   "metadata": {},
   "outputs": [],
   "source": [
    "movies_data['genre'] = movies_data['genre'].str.strip()"
   ]
  },
  {
   "cell_type": "code",
   "execution_count": 61,
   "id": "418777fd",
   "metadata": {},
   "outputs": [],
   "source": [
    "df = movies_data.merge(movies_data_merged, on='genre', how='left')"
   ]
  },
  {
   "cell_type": "code",
   "execution_count": 62,
   "id": "f8b6deae",
   "metadata": {},
   "outputs": [],
   "source": [
    "df_merged = movies_data.groupby('genre').size().reset_index(name='count')"
   ]
  },
  {
   "cell_type": "code",
   "execution_count": 63,
   "id": "8c564788",
   "metadata": {},
   "outputs": [
    {
     "name": "stdout",
     "output_type": "stream",
     "text": [
      "0         Action\n",
      "1      Adventure\n",
      "2      Animation\n",
      "3      Biography\n",
      "4         Comedy\n",
      "5          Crime\n",
      "6          Drama\n",
      "7         Family\n",
      "8        Fantasy\n",
      "9        History\n",
      "10        Horror\n",
      "11         Music\n",
      "12       Musical\n",
      "13       Mystery\n",
      "14    Reality-TV\n",
      "15       Romance\n",
      "16        Sci-Fi\n",
      "17         Sport\n",
      "18     Talk-Show\n",
      "19      Thriller\n",
      "20           War\n",
      "21       Western\n",
      "Name: genre, dtype: object\n"
     ]
    }
   ],
   "source": [
    "print(df_merged['genre'])"
   ]
  },
  {
   "cell_type": "code",
   "execution_count": 64,
   "id": "090f7c02",
   "metadata": {},
   "outputs": [
    {
     "data": {
      "text/html": [
       "<div>\n",
       "<style scoped>\n",
       "    .dataframe tbody tr th:only-of-type {\n",
       "        vertical-align: middle;\n",
       "    }\n",
       "\n",
       "    .dataframe tbody tr th {\n",
       "        vertical-align: top;\n",
       "    }\n",
       "\n",
       "    .dataframe thead th {\n",
       "        text-align: right;\n",
       "    }\n",
       "</style>\n",
       "<table border=\"1\" class=\"dataframe\">\n",
       "  <thead>\n",
       "    <tr style=\"text-align: right;\">\n",
       "      <th></th>\n",
       "      <th>genre</th>\n",
       "      <th>count</th>\n",
       "    </tr>\n",
       "  </thead>\n",
       "  <tbody>\n",
       "    <tr>\n",
       "      <th>0</th>\n",
       "      <td>Action</td>\n",
       "      <td>1002</td>\n",
       "    </tr>\n",
       "    <tr>\n",
       "      <th>1</th>\n",
       "      <td>Adventure</td>\n",
       "      <td>250</td>\n",
       "    </tr>\n",
       "    <tr>\n",
       "      <th>2</th>\n",
       "      <td>Animation</td>\n",
       "      <td>266</td>\n",
       "    </tr>\n",
       "    <tr>\n",
       "      <th>3</th>\n",
       "      <td>Biography</td>\n",
       "      <td>181</td>\n",
       "    </tr>\n",
       "    <tr>\n",
       "      <th>4</th>\n",
       "      <td>Comedy</td>\n",
       "      <td>2085</td>\n",
       "    </tr>\n",
       "    <tr>\n",
       "      <th>5</th>\n",
       "      <td>Crime</td>\n",
       "      <td>373</td>\n",
       "    </tr>\n",
       "    <tr>\n",
       "      <th>6</th>\n",
       "      <td>Drama</td>\n",
       "      <td>3243</td>\n",
       "    </tr>\n",
       "    <tr>\n",
       "      <th>7</th>\n",
       "      <td>Family</td>\n",
       "      <td>88</td>\n",
       "    </tr>\n",
       "    <tr>\n",
       "      <th>8</th>\n",
       "      <td>Fantasy</td>\n",
       "      <td>93</td>\n",
       "    </tr>\n",
       "    <tr>\n",
       "      <th>9</th>\n",
       "      <td>History</td>\n",
       "      <td>30</td>\n",
       "    </tr>\n",
       "    <tr>\n",
       "      <th>10</th>\n",
       "      <td>Horror</td>\n",
       "      <td>664</td>\n",
       "    </tr>\n",
       "    <tr>\n",
       "      <th>11</th>\n",
       "      <td>Music</td>\n",
       "      <td>46</td>\n",
       "    </tr>\n",
       "    <tr>\n",
       "      <th>12</th>\n",
       "      <td>Musical</td>\n",
       "      <td>45</td>\n",
       "    </tr>\n",
       "    <tr>\n",
       "      <th>13</th>\n",
       "      <td>Mystery</td>\n",
       "      <td>82</td>\n",
       "    </tr>\n",
       "    <tr>\n",
       "      <th>14</th>\n",
       "      <td>Reality-TV</td>\n",
       "      <td>1</td>\n",
       "    </tr>\n",
       "    <tr>\n",
       "      <th>15</th>\n",
       "      <td>Romance</td>\n",
       "      <td>192</td>\n",
       "    </tr>\n",
       "    <tr>\n",
       "      <th>16</th>\n",
       "      <td>Sci-Fi</td>\n",
       "      <td>69</td>\n",
       "    </tr>\n",
       "    <tr>\n",
       "      <th>17</th>\n",
       "      <td>Sport</td>\n",
       "      <td>17</td>\n",
       "    </tr>\n",
       "    <tr>\n",
       "      <th>18</th>\n",
       "      <td>Talk-Show</td>\n",
       "      <td>1</td>\n",
       "    </tr>\n",
       "    <tr>\n",
       "      <th>19</th>\n",
       "      <td>Thriller</td>\n",
       "      <td>328</td>\n",
       "    </tr>\n",
       "    <tr>\n",
       "      <th>20</th>\n",
       "      <td>War</td>\n",
       "      <td>19</td>\n",
       "    </tr>\n",
       "    <tr>\n",
       "      <th>21</th>\n",
       "      <td>Western</td>\n",
       "      <td>15</td>\n",
       "    </tr>\n",
       "  </tbody>\n",
       "</table>\n",
       "</div>"
      ],
      "text/plain": [
       "         genre  count\n",
       "0       Action   1002\n",
       "1    Adventure    250\n",
       "2    Animation    266\n",
       "3    Biography    181\n",
       "4       Comedy   2085\n",
       "5        Crime    373\n",
       "6        Drama   3243\n",
       "7       Family     88\n",
       "8      Fantasy     93\n",
       "9      History     30\n",
       "10      Horror    664\n",
       "11       Music     46\n",
       "12     Musical     45\n",
       "13     Mystery     82\n",
       "14  Reality-TV      1\n",
       "15     Romance    192\n",
       "16      Sci-Fi     69\n",
       "17       Sport     17\n",
       "18   Talk-Show      1\n",
       "19    Thriller    328\n",
       "20         War     19\n",
       "21     Western     15"
      ]
     },
     "execution_count": 64,
     "metadata": {},
     "output_type": "execute_result"
    }
   ],
   "source": [
    "df_merged"
   ]
  },
  {
   "cell_type": "markdown",
   "id": "bffa64ee",
   "metadata": {},
   "source": [
    "# Visualization"
   ]
  },
  {
   "cell_type": "code",
   "execution_count": 65,
   "id": "77de4836",
   "metadata": {},
   "outputs": [],
   "source": [
    "import matplotlib.pyplot as plt"
   ]
  },
  {
   "cell_type": "code",
   "execution_count": 66,
   "id": "f1d16c81",
   "metadata": {},
   "outputs": [
    {
     "data": {
      "text/plain": [
       "Text(0.5, 1.0, 'Genre Counts')"
      ]
     },
     "execution_count": 66,
     "metadata": {},
     "output_type": "execute_result"
    },
    {
     "data": {
      "image/png": "[encoded data removed]",
      "text/plain": [
       "<Figure size 640x480 with 1 Axes>"
      ]
     },
     "metadata": {},
     "output_type": "display_data"
    }
   ],
   "source": [
    "plt.xlabel('Genre')\n",
    "plt.xticks(rotation=45, ha='right')\n",
    "plt.ylabel('Count')\n",
    "plt.bar(df_merged['genre'], df_merged['count'])\n",
    "plt.title('Genre Counts')"
   ]
  },
  {
   "cell_type": "markdown",
   "id": "d4ee2582",
   "metadata": {},
   "source": [
    "# Pre-Model "
   ]
  },
  {
   "cell_type": "code",
   "execution_count": 67,
   "id": "eb40da07",
   "metadata": {},
   "outputs": [],
   "source": [
    "import pandas as pd\n",
    "from sklearn.model_selection import train_test_split\n",
    "from sklearn.ensemble import RandomForestRegressor"
   ]
  },
  {
   "cell_type": "code",
   "execution_count": 68,
   "id": "dbc3e840",
   "metadata": {},
   "outputs": [],
   "source": [
    "data = movies_data.copy()"
   ]
  },
  {
   "cell_type": "code",
   "execution_count": 69,
   "id": "12922c3d",
   "metadata": {},
   "outputs": [
    {
     "data": {
      "text/html": [
       "<div>\n",
       "<style scoped>\n",
       "    .dataframe tbody tr th:only-of-type {\n",
       "        vertical-align: middle;\n",
       "    }\n",
       "\n",
       "    .dataframe tbody tr th {\n",
       "        vertical-align: top;\n",
       "    }\n",
       "\n",
       "    .dataframe thead th {\n",
       "        text-align: right;\n",
       "    }\n",
       "</style>\n",
       "<table border=\"1\" class=\"dataframe\">\n",
       "  <thead>\n",
       "    <tr style=\"text-align: right;\">\n",
       "      <th></th>\n",
       "      <th>movie_name</th>\n",
       "      <th>genre</th>\n",
       "      <th>imdb_rating</th>\n",
       "    </tr>\n",
       "  </thead>\n",
       "  <tbody>\n",
       "    <tr>\n",
       "      <th>0</th>\n",
       "      <td>The Nun</td>\n",
       "      <td>Horror</td>\n",
       "      <td>5.300000</td>\n",
       "    </tr>\n",
       "    <tr>\n",
       "      <th>1</th>\n",
       "      <td>The Meg</td>\n",
       "      <td>Action</td>\n",
       "      <td>5.600000</td>\n",
       "    </tr>\n",
       "    <tr>\n",
       "      <th>2</th>\n",
       "      <td>Hereditary</td>\n",
       "      <td>Drama</td>\n",
       "      <td>7.300000</td>\n",
       "    </tr>\n",
       "    <tr>\n",
       "      <th>3</th>\n",
       "      <td>The Equalizer 2</td>\n",
       "      <td>Action</td>\n",
       "      <td>6.700000</td>\n",
       "    </tr>\n",
       "    <tr>\n",
       "      <th>4</th>\n",
       "      <td>Halloween</td>\n",
       "      <td>Crime</td>\n",
       "      <td>6.500000</td>\n",
       "    </tr>\n",
       "    <tr>\n",
       "      <th>...</th>\n",
       "      <td>...</td>\n",
       "      <td>...</td>\n",
       "      <td>...</td>\n",
       "    </tr>\n",
       "    <tr>\n",
       "      <th>9295</th>\n",
       "      <td>No maku bakuhai to</td>\n",
       "      <td>Drama</td>\n",
       "      <td>5.827089</td>\n",
       "    </tr>\n",
       "    <tr>\n",
       "      <th>9296</th>\n",
       "      <td>The 6th Kiss</td>\n",
       "      <td>Comedy</td>\n",
       "      <td>5.827089</td>\n",
       "    </tr>\n",
       "    <tr>\n",
       "      <th>9297</th>\n",
       "      <td>Alibaba Aur 41 Chor</td>\n",
       "      <td>Animation</td>\n",
       "      <td>5.827089</td>\n",
       "    </tr>\n",
       "    <tr>\n",
       "      <th>9298</th>\n",
       "      <td>Strong Artificial Intelligence</td>\n",
       "      <td>Action</td>\n",
       "      <td>7.200000</td>\n",
       "    </tr>\n",
       "    <tr>\n",
       "      <th>9299</th>\n",
       "      <td>The Mystery of the Man in the Mask</td>\n",
       "      <td>Comedy</td>\n",
       "      <td>5.827089</td>\n",
       "    </tr>\n",
       "  </tbody>\n",
       "</table>\n",
       "<p>9300 rows × 3 columns</p>\n",
       "</div>"
      ],
      "text/plain": [
       "                              movie_name      genre  imdb_rating\n",
       "0                                The Nun     Horror     5.300000\n",
       "1                                The Meg     Action     5.600000\n",
       "2                             Hereditary      Drama     7.300000\n",
       "3                        The Equalizer 2     Action     6.700000\n",
       "4                              Halloween      Crime     6.500000\n",
       "...                                  ...        ...          ...\n",
       "9295                  No maku bakuhai to      Drama     5.827089\n",
       "9296                        The 6th Kiss     Comedy     5.827089\n",
       "9297                 Alibaba Aur 41 Chor  Animation     5.827089\n",
       "9298      Strong Artificial Intelligence     Action     7.200000\n",
       "9299  The Mystery of the Man in the Mask     Comedy     5.827089\n",
       "\n",
       "[9300 rows x 3 columns]"
      ]
     },
     "execution_count": 69,
     "metadata": {},
     "output_type": "execute_result"
    }
   ],
   "source": [
    "data"
   ]
  },
  {
   "cell_type": "code",
   "execution_count": 70,
   "id": "9724258a",
   "metadata": {},
   "outputs": [],
   "source": [
    "data['imdb_rating'] = data['imdb_rating'].round(1)"
   ]
  },
  {
   "cell_type": "code",
   "execution_count": 71,
   "id": "76e6df03",
   "metadata": {},
   "outputs": [
    {
     "data": {
      "text/html": [
       "<div>\n",
       "<style scoped>\n",
       "    .dataframe tbody tr th:only-of-type {\n",
       "        vertical-align: middle;\n",
       "    }\n",
       "\n",
       "    .dataframe tbody tr th {\n",
       "        vertical-align: top;\n",
       "    }\n",
       "\n",
       "    .dataframe thead th {\n",
       "        text-align: right;\n",
       "    }\n",
       "</style>\n",
       "<table border=\"1\" class=\"dataframe\">\n",
       "  <thead>\n",
       "    <tr style=\"text-align: right;\">\n",
       "      <th></th>\n",
       "      <th>movie_name</th>\n",
       "      <th>genre</th>\n",
       "      <th>imdb_rating</th>\n",
       "    </tr>\n",
       "  </thead>\n",
       "  <tbody>\n",
       "    <tr>\n",
       "      <th>0</th>\n",
       "      <td>The Nun</td>\n",
       "      <td>Horror</td>\n",
       "      <td>5.3</td>\n",
       "    </tr>\n",
       "    <tr>\n",
       "      <th>1</th>\n",
       "      <td>The Meg</td>\n",
       "      <td>Action</td>\n",
       "      <td>5.6</td>\n",
       "    </tr>\n",
       "    <tr>\n",
       "      <th>2</th>\n",
       "      <td>Hereditary</td>\n",
       "      <td>Drama</td>\n",
       "      <td>7.3</td>\n",
       "    </tr>\n",
       "    <tr>\n",
       "      <th>3</th>\n",
       "      <td>The Equalizer 2</td>\n",
       "      <td>Action</td>\n",
       "      <td>6.7</td>\n",
       "    </tr>\n",
       "    <tr>\n",
       "      <th>4</th>\n",
       "      <td>Halloween</td>\n",
       "      <td>Crime</td>\n",
       "      <td>6.5</td>\n",
       "    </tr>\n",
       "    <tr>\n",
       "      <th>...</th>\n",
       "      <td>...</td>\n",
       "      <td>...</td>\n",
       "      <td>...</td>\n",
       "    </tr>\n",
       "    <tr>\n",
       "      <th>9295</th>\n",
       "      <td>No maku bakuhai to</td>\n",
       "      <td>Drama</td>\n",
       "      <td>5.8</td>\n",
       "    </tr>\n",
       "    <tr>\n",
       "      <th>9296</th>\n",
       "      <td>The 6th Kiss</td>\n",
       "      <td>Comedy</td>\n",
       "      <td>5.8</td>\n",
       "    </tr>\n",
       "    <tr>\n",
       "      <th>9297</th>\n",
       "      <td>Alibaba Aur 41 Chor</td>\n",
       "      <td>Animation</td>\n",
       "      <td>5.8</td>\n",
       "    </tr>\n",
       "    <tr>\n",
       "      <th>9298</th>\n",
       "      <td>Strong Artificial Intelligence</td>\n",
       "      <td>Action</td>\n",
       "      <td>7.2</td>\n",
       "    </tr>\n",
       "    <tr>\n",
       "      <th>9299</th>\n",
       "      <td>The Mystery of the Man in the Mask</td>\n",
       "      <td>Comedy</td>\n",
       "      <td>5.8</td>\n",
       "    </tr>\n",
       "  </tbody>\n",
       "</table>\n",
       "<p>9300 rows × 3 columns</p>\n",
       "</div>"
      ],
      "text/plain": [
       "                              movie_name      genre  imdb_rating\n",
       "0                                The Nun     Horror          5.3\n",
       "1                                The Meg     Action          5.6\n",
       "2                             Hereditary      Drama          7.3\n",
       "3                        The Equalizer 2     Action          6.7\n",
       "4                              Halloween      Crime          6.5\n",
       "...                                  ...        ...          ...\n",
       "9295                  No maku bakuhai to      Drama          5.8\n",
       "9296                        The 6th Kiss     Comedy          5.8\n",
       "9297                 Alibaba Aur 41 Chor  Animation          5.8\n",
       "9298      Strong Artificial Intelligence     Action          7.2\n",
       "9299  The Mystery of the Man in the Mask     Comedy          5.8\n",
       "\n",
       "[9300 rows x 3 columns]"
      ]
     },
     "execution_count": 71,
     "metadata": {},
     "output_type": "execute_result"
    }
   ],
   "source": [
    "data"
   ]
  },
  {
   "cell_type": "code",
   "execution_count": 72,
   "id": "1f6af12d",
   "metadata": {},
   "outputs": [],
   "source": [
    "X = data[['genre', 'imdb_rating']]\n",
    "y = data['imdb_rating']"
   ]
  },
  {
   "cell_type": "code",
   "execution_count": null,
   "id": "fb09e6fa",
   "metadata": {},
   "outputs": [],
   "source": []
  },
  {
   "cell_type": "markdown",
   "metadata": {},
   "source": [
    "# Model Training"
   ]
  },
  {
   "cell_type": "markdown",
   "id": "1cb99e82",
   "metadata": {},
   "source": [
    "# Random Forest Regressor"
   ]
  },
  {
   "cell_type": "code",
   "execution_count": 73,
   "id": "ca734e75",
   "metadata": {},
   "outputs": [],
   "source": [
    "X_train, X_test, y_train, y_test = train_test_split(X, y, test_size=0.2)"
   ]
  },
  {
   "cell_type": "code",
   "execution_count": 74,
   "id": "141dca92",
   "metadata": {},
   "outputs": [],
   "source": [
    "from sklearn.preprocessing import OneHotEncoder\n",
    "\n",
    "encoder = OneHotEncoder()\n",
    "X_train_encoded = encoder.fit_transform(X_train[['genre']]).toarray()\n",
    "X_test_encoded = encoder.transform(X_test[['genre']]).toarray()"
   ]
  },
  {
   "cell_type": "code",
   "execution_count": 75,
   "id": "f398aef9",
   "metadata": {},
   "outputs": [
    {
     "data": {
      "text/html": [
       "<style>#sk-container-id-2 {color: black;}#sk-container-id-2 pre{padding: 0;}#sk-container-id-2 div.sk-toggleable {background-color: white;}#sk-container-id-2 label.sk-toggleable__label {cursor: pointer;display: block;width: 100%;margin-bottom: 0;padding: 0.3em;box-sizing: border-box;text-align: center;}#sk-container-id-2 label.sk-toggleable__label-arrow:before {content: \"▸\";float: left;margin-right: 0.25em;color: #696969;}#sk-container-id-2 label.sk-toggleable__label-arrow:hover:before {color: black;}#sk-container-id-2 div.sk-estimator:hover label.sk-toggleable__label-arrow:before {color: black;}#sk-container-id-2 div.sk-toggleable__content {max-height: 0;max-width: 0;overflow: hidden;text-align: left;background-color: #f0f8ff;}#sk-container-id-2 div.sk-toggleable__content pre {margin: 0.2em;color: black;border-radius: 0.25em;background-color: #f0f8ff;}#sk-container-id-2 input.sk-toggleable__control:checked~div.sk-toggleable__content {max-height: 200px;max-width: 100%;overflow: auto;}#sk-container-id-2 input.sk-toggleable__control:checked~label.sk-toggleable__label-arrow:before {content: \"▾\";}#sk-container-id-2 div.sk-estimator input.sk-toggleable__control:checked~label.sk-toggleable__label {background-color: #d4ebff;}#sk-container-id-2 div.sk-label input.sk-toggleable__control:checked~label.sk-toggleable__label {background-color: #d4ebff;}#sk-container-id-2 input.sk-hidden--visually {border: 0;clip: rect(1px 1px 1px 1px);clip: rect(1px, 1px, 1px, 1px);height: 1px;margin: -1px;overflow: hidden;padding: 0;position: absolute;width: 1px;}#sk-container-id-2 div.sk-estimator {font-family: monospace;background-color: #f0f8ff;border: 1px dotted black;border-radius: 0.25em;box-sizing: border-box;margin-bottom: 0.5em;}#sk-container-id-2 div.sk-estimator:hover {background-color: #d4ebff;}#sk-container-id-2 div.sk-parallel-item::after {content: \"\";width: 100%;border-bottom: 1px solid gray;flex-grow: 1;}#sk-container-id-2 div.sk-label:hover label.sk-toggleable__label {background-color: #d4ebff;}#sk-container-id-2 div.sk-serial::before {content: \"\";position: absolute;border-left: 1px solid gray;box-sizing: border-box;top: 0;bottom: 0;left: 50%;z-index: 0;}#sk-container-id-2 div.sk-serial {display: flex;flex-direction: column;align-items: center;background-color: white;padding-right: 0.2em;padding-left: 0.2em;position: relative;}#sk-container-id-2 div.sk-item {position: relative;z-index: 1;}#sk-container-id-2 div.sk-parallel {display: flex;align-items: stretch;justify-content: center;background-color: white;position: relative;}#sk-container-id-2 div.sk-item::before, #sk-container-id-2 div.sk-parallel-item::before {content: \"\";position: absolute;border-left: 1px solid gray;box-sizing: border-box;top: 0;bottom: 0;left: 50%;z-index: -1;}#sk-container-id-2 div.sk-parallel-item {display: flex;flex-direction: column;z-index: 1;position: relative;background-color: white;}#sk-container-id-2 div.sk-parallel-item:first-child::after {align-self: flex-end;width: 50%;}#sk-container-id-2 div.sk-parallel-item:last-child::after {align-self: flex-start;width: 50%;}#sk-container-id-2 div.sk-parallel-item:only-child::after {width: 0;}#sk-container-id-2 div.sk-dashed-wrapped {border: 1px dashed gray;margin: 0 0.4em 0.5em 0.4em;box-sizing: border-box;padding-bottom: 0.4em;background-color: white;}#sk-container-id-2 div.sk-label label {font-family: monospace;font-weight: bold;display: inline-block;line-height: 1.2em;}#sk-container-id-2 div.sk-label-container {text-align: center;}#sk-container-id-2 div.sk-container {/* jupyter's `normalize.less` sets `[hidden] { display: none; }` but bootstrap.min.css set `[hidden] { display: none !important; }` so we also need the `!important` here to be able to override the default hidden behavior on the sphinx rendered scikit-learn.org. See: https://github.com/scikit-learn/scikit-learn/issues/21755 */display: inline-block !important;position: relative;}#sk-container-id-2 div.sk-text-repr-fallback {display: none;}</style><div id=\"sk-container-id-2\" class=\"sk-top-container\"><div class=\"sk-text-repr-fallback\"><pre>RandomForestRegressor()</pre><b>In a Jupyter environment, please rerun this cell to show the HTML representation or trust the notebook. <br />On GitHub, the HTML representation is unable to render, please try loading this page with nbviewer.org.</b></div><div class=\"sk-container\" hidden><div class=\"sk-item\"><div class=\"sk-estimator sk-toggleable\"><input class=\"sk-toggleable__control sk-hidden--visually\" id=\"sk-estimator-id-2\" type=\"checkbox\" checked><label for=\"sk-estimator-id-2\" class=\"sk-toggleable__label sk-toggleable__label-arrow\">RandomForestRegressor</label><div class=\"sk-toggleable__content\"><pre>RandomForestRegressor()</pre></div></div></div></div></div>"
      ],
      "text/plain": [
       "RandomForestRegressor()"
      ]
     },
     "execution_count": 75,
     "metadata": {},
     "output_type": "execute_result"
    }
   ],
   "source": [
    "model = RandomForestRegressor()\n",
    "model.fit(X_train_encoded, y_train)"
   ]
  },
  {
   "cell_type": "code",
   "execution_count": 76,
   "id": "c17bb720",
   "metadata": {},
   "outputs": [],
   "source": [
    "y_pred = model.predict(X_test_encoded)"
   ]
  },
  {
   "cell_type": "code",
   "execution_count": 77,
   "id": "ac2bc51c",
   "metadata": {},
   "outputs": [
    {
     "name": "stderr",
     "output_type": "stream",
     "text": [
      "c:\\Users\\malay\\AppData\\Local\\Programs\\Python\\Python311\\Lib\\site-packages\\sklearn\\base.py:465: UserWarning: X does not have valid feature names, but OneHotEncoder was fitted with feature names\n",
      "  warnings.warn(\n"
     ]
    }
   ],
   "source": [
    "new_genre = \"Drama\"\n",
    "new_genre_encoded = encoder.transform([[new_genre]])"
   ]
  },
  {
   "cell_type": "code",
   "execution_count": 78,
   "id": "07762c6a",
   "metadata": {},
   "outputs": [],
   "source": [
    "predicted_rating = model.predict(new_genre_encoded)"
   ]
  },
  {
   "cell_type": "code",
   "execution_count": 79,
   "id": "c7a45718",
   "metadata": {},
   "outputs": [],
   "source": [
    "rounded_rating = np.round(predicted_rating, 1)"
   ]
  },
  {
   "cell_type": "code",
   "execution_count": 80,
   "id": "08fe1ae7",
   "metadata": {},
   "outputs": [
    {
     "name": "stdout",
     "output_type": "stream",
     "text": [
      "Tentative rating for genre Drama: [6.10677396]\n"
     ]
    }
   ],
   "source": [
    "print(f\"Tentative rating for genre {new_genre}: {predicted_rating}\")"
   ]
  },
  {
   "cell_type": "code",
   "execution_count": 81,
   "id": "0d39719d",
   "metadata": {},
   "outputs": [
    {
     "name": "stdout",
     "output_type": "stream",
     "text": [
      "Tentative rating for genre Drama: 6.1\n"
     ]
    }
   ],
   "source": [
    "print(f\"Tentative rating for genre {new_genre}: {rounded_rating[0]}\")"
   ]
  },
  {
   "cell_type": "code",
   "execution_count": 82,
   "id": "bb268c05",
   "metadata": {},
   "outputs": [],
   "source": [
    "def predict_rating_for_genre(new_genre):\n",
    "    new_genre_encoded = encoder.transform([[new_genre]])\n",
    "    predicted_rating = model.predict(new_genre_encoded)\n",
    "    return round(predicted_rating[0], 1)"
   ]
  },
  {
   "cell_type": "code",
   "execution_count": 83,
   "id": "ef2ddfe5",
   "metadata": {},
   "outputs": [
    {
     "name": "stderr",
     "output_type": "stream",
     "text": [
      "c:\\Users\\malay\\AppData\\Local\\Programs\\Python\\Python311\\Lib\\site-packages\\sklearn\\base.py:465: UserWarning: X does not have valid feature names, but OneHotEncoder was fitted with feature names\n",
      "  warnings.warn(\n"
     ]
    },
    {
     "data": {
      "text/plain": [
       "6.1"
      ]
     },
     "execution_count": 83,
     "metadata": {},
     "output_type": "execute_result"
    }
   ],
   "source": [
    "predict_rating_for_genre(\"Drama\")"
   ]
  },
  {
   "cell_type": "code",
   "execution_count": 84,
   "id": "fa32f2f9",
   "metadata": {},
   "outputs": [
    {
     "name": "stderr",
     "output_type": "stream",
     "text": [
      "c:\\Users\\malay\\AppData\\Local\\Programs\\Python\\Python311\\Lib\\site-packages\\sklearn\\base.py:465: UserWarning: X does not have valid feature names, but OneHotEncoder was fitted with feature names\n",
      "  warnings.warn(\n"
     ]
    },
    {
     "data": {
      "text/plain": [
       "5.6"
      ]
     },
     "execution_count": 84,
     "metadata": {},
     "output_type": "execute_result"
    }
   ],
   "source": [
    "predict_rating_for_genre(\"Action\")"
   ]
  },
  {
   "cell_type": "code",
   "execution_count": 85,
   "id": "382177c6",
   "metadata": {},
   "outputs": [
    {
     "name": "stderr",
     "output_type": "stream",
     "text": [
      "c:\\Users\\malay\\AppData\\Local\\Programs\\Python\\Python311\\Lib\\site-packages\\sklearn\\base.py:465: UserWarning: X does not have valid feature names, but OneHotEncoder was fitted with feature names\n",
      "  warnings.warn(\n"
     ]
    },
    {
     "data": {
      "text/plain": [
       "5.5"
      ]
     },
     "execution_count": 85,
     "metadata": {},
     "output_type": "execute_result"
    }
   ],
   "source": [
    "predict_rating_for_genre(\"Thriller\")"
   ]
  },
  {
   "cell_type": "code",
   "execution_count": 86,
   "id": "2c0f3413",
   "metadata": {},
   "outputs": [
    {
     "name": "stderr",
     "output_type": "stream",
     "text": [
      "c:\\Users\\malay\\AppData\\Local\\Programs\\Python\\Python311\\Lib\\site-packages\\sklearn\\base.py:465: UserWarning: X does not have valid feature names, but OneHotEncoder was fitted with feature names\n",
      "  warnings.warn(\n"
     ]
    },
    {
     "data": {
      "text/plain": [
       "5.8"
      ]
     },
     "execution_count": 86,
     "metadata": {},
     "output_type": "execute_result"
    }
   ],
   "source": [
    "predict_rating_for_genre(\"Comedy\")"
   ]
  },
  {
   "cell_type": "code",
   "execution_count": 87,
   "id": "0cd29fbe",
   "metadata": {},
   "outputs": [
    {
     "name": "stderr",
     "output_type": "stream",
     "text": [
      "c:\\Users\\malay\\AppData\\Local\\Programs\\Python\\Python311\\Lib\\site-packages\\sklearn\\base.py:465: UserWarning: X does not have valid feature names, but OneHotEncoder was fitted with feature names\n",
      "  warnings.warn(\n"
     ]
    },
    {
     "data": {
      "text/plain": [
       "6.1"
      ]
     },
     "execution_count": 87,
     "metadata": {},
     "output_type": "execute_result"
    }
   ],
   "source": [
    "predict_rating_for_genre(\"Animation\")"
   ]
  },
  {
   "cell_type": "code",
   "execution_count": 88,
   "id": "99b69c5e",
   "metadata": {},
   "outputs": [
    {
     "name": "stdout",
     "output_type": "stream",
     "text": [
      "MAE: 0.9142040503725672\n",
      "MSE: 1.533086390281597\n",
      "R-squared: 0.09489534242760256\n"
     ]
    }
   ],
   "source": [
    "from sklearn.metrics import mean_absolute_error, mean_squared_error, r2_score\n",
    "\n",
    "mae = mean_absolute_error(y_test, y_pred)\n",
    "mse = mean_squared_error(y_test, y_pred)\n",
    "r2 = r2_score(y_test, y_pred)\n",
    "\n",
    "print(f\"MAE: {mae}\")\n",
    "print(f\"MSE: {mse}\")\n",
    "print(f\"R-squared: {r2}\")"
   ]
  },
  {
   "cell_type": "code",
   "execution_count": 89,
   "id": "e23d1b07",
   "metadata": {},
   "outputs": [
    {
     "data": {
      "text/plain": [
       "\"import pickle\\nwith open('random_forest_model.pkl', 'wb') as file:\\n    pickle.dump(predict_rating_for_genre,file)\""
      ]
     },
     "execution_count": 89,
     "metadata": {},
     "output_type": "execute_result"
    }
   ],
   "source": [
    "'''import pickle\n",
    "with open('random_forest_model.pkl', 'wb') as file:\n",
    "    pickle.dump(predict_rating_for_genre,file)'''"
   ]
  },
  {
   "cell_type": "code",
   "execution_count": null,
   "id": "5f66b383",
   "metadata": {},
   "outputs": [],
   "source": []
  },
  {
   "cell_type": "markdown",
   "id": "f8f518a1",
   "metadata": {},
   "source": [
    "# Decision Tree"
   ]
  },
  {
   "cell_type": "code",
   "execution_count": 90,
   "id": "d92ebf6f",
   "metadata": {},
   "outputs": [],
   "source": [
    "from sklearn.tree import DecisionTreeRegressor\n",
    "from sklearn.model_selection import train_test_split\n",
    "from sklearn.metrics import mean_absolute_error, mean_squared_error, r2_score"
   ]
  },
  {
   "cell_type": "code",
   "execution_count": 91,
   "id": "e08bab2c",
   "metadata": {},
   "outputs": [],
   "source": [
    "X = data[['genre', 'imdb_rating']]\n",
    "y = data['imdb_rating']"
   ]
  },
  {
   "cell_type": "code",
   "execution_count": 92,
   "id": "ebb915d5",
   "metadata": {},
   "outputs": [],
   "source": [
    "X_train, X_test, y_train, y_test = train_test_split(X, y, test_size=0.2,random_state=42)"
   ]
  },
  {
   "cell_type": "code",
   "execution_count": 93,
   "id": "c164dc82",
   "metadata": {},
   "outputs": [
    {
     "data": {
      "text/html": [
       "<style>#sk-container-id-3 {color: black;}#sk-container-id-3 pre{padding: 0;}#sk-container-id-3 div.sk-toggleable {background-color: white;}#sk-container-id-3 label.sk-toggleable__label {cursor: pointer;display: block;width: 100%;margin-bottom: 0;padding: 0.3em;box-sizing: border-box;text-align: center;}#sk-container-id-3 label.sk-toggleable__label-arrow:before {content: \"▸\";float: left;margin-right: 0.25em;color: #696969;}#sk-container-id-3 label.sk-toggleable__label-arrow:hover:before {color: black;}#sk-container-id-3 div.sk-estimator:hover label.sk-toggleable__label-arrow:before {color: black;}#sk-container-id-3 div.sk-toggleable__content {max-height: 0;max-width: 0;overflow: hidden;text-align: left;background-color: #f0f8ff;}#sk-container-id-3 div.sk-toggleable__content pre {margin: 0.2em;color: black;border-radius: 0.25em;background-color: #f0f8ff;}#sk-container-id-3 input.sk-toggleable__control:checked~div.sk-toggleable__content {max-height: 200px;max-width: 100%;overflow: auto;}#sk-container-id-3 input.sk-toggleable__control:checked~label.sk-toggleable__label-arrow:before {content: \"▾\";}#sk-container-id-3 div.sk-estimator input.sk-toggleable__control:checked~label.sk-toggleable__label {background-color: #d4ebff;}#sk-container-id-3 div.sk-label input.sk-toggleable__control:checked~label.sk-toggleable__label {background-color: #d4ebff;}#sk-container-id-3 input.sk-hidden--visually {border: 0;clip: rect(1px 1px 1px 1px);clip: rect(1px, 1px, 1px, 1px);height: 1px;margin: -1px;overflow: hidden;padding: 0;position: absolute;width: 1px;}#sk-container-id-3 div.sk-estimator {font-family: monospace;background-color: #f0f8ff;border: 1px dotted black;border-radius: 0.25em;box-sizing: border-box;margin-bottom: 0.5em;}#sk-container-id-3 div.sk-estimator:hover {background-color: #d4ebff;}#sk-container-id-3 div.sk-parallel-item::after {content: \"\";width: 100%;border-bottom: 1px solid gray;flex-grow: 1;}#sk-container-id-3 div.sk-label:hover label.sk-toggleable__label {background-color: #d4ebff;}#sk-container-id-3 div.sk-serial::before {content: \"\";position: absolute;border-left: 1px solid gray;box-sizing: border-box;top: 0;bottom: 0;left: 50%;z-index: 0;}#sk-container-id-3 div.sk-serial {display: flex;flex-direction: column;align-items: center;background-color: white;padding-right: 0.2em;padding-left: 0.2em;position: relative;}#sk-container-id-3 div.sk-item {position: relative;z-index: 1;}#sk-container-id-3 div.sk-parallel {display: flex;align-items: stretch;justify-content: center;background-color: white;position: relative;}#sk-container-id-3 div.sk-item::before, #sk-container-id-3 div.sk-parallel-item::before {content: \"\";position: absolute;border-left: 1px solid gray;box-sizing: border-box;top: 0;bottom: 0;left: 50%;z-index: -1;}#sk-container-id-3 div.sk-parallel-item {display: flex;flex-direction: column;z-index: 1;position: relative;background-color: white;}#sk-container-id-3 div.sk-parallel-item:first-child::after {align-self: flex-end;width: 50%;}#sk-container-id-3 div.sk-parallel-item:last-child::after {align-self: flex-start;width: 50%;}#sk-container-id-3 div.sk-parallel-item:only-child::after {width: 0;}#sk-container-id-3 div.sk-dashed-wrapped {border: 1px dashed gray;margin: 0 0.4em 0.5em 0.4em;box-sizing: border-box;padding-bottom: 0.4em;background-color: white;}#sk-container-id-3 div.sk-label label {font-family: monospace;font-weight: bold;display: inline-block;line-height: 1.2em;}#sk-container-id-3 div.sk-label-container {text-align: center;}#sk-container-id-3 div.sk-container {/* jupyter's `normalize.less` sets `[hidden] { display: none; }` but bootstrap.min.css set `[hidden] { display: none !important; }` so we also need the `!important` here to be able to override the default hidden behavior on the sphinx rendered scikit-learn.org. See: https://github.com/scikit-learn/scikit-learn/issues/21755 */display: inline-block !important;position: relative;}#sk-container-id-3 div.sk-text-repr-fallback {display: none;}</style><div id=\"sk-container-id-3\" class=\"sk-top-container\"><div class=\"sk-text-repr-fallback\"><pre>DecisionTreeRegressor(random_state=42)</pre><b>In a Jupyter environment, please rerun this cell to show the HTML representation or trust the notebook. <br />On GitHub, the HTML representation is unable to render, please try loading this page with nbviewer.org.</b></div><div class=\"sk-container\" hidden><div class=\"sk-item\"><div class=\"sk-estimator sk-toggleable\"><input class=\"sk-toggleable__control sk-hidden--visually\" id=\"sk-estimator-id-3\" type=\"checkbox\" checked><label for=\"sk-estimator-id-3\" class=\"sk-toggleable__label sk-toggleable__label-arrow\">DecisionTreeRegressor</label><div class=\"sk-toggleable__content\"><pre>DecisionTreeRegressor(random_state=42)</pre></div></div></div></div></div>"
      ],
      "text/plain": [
       "DecisionTreeRegressor(random_state=42)"
      ]
     },
     "execution_count": 93,
     "metadata": {},
     "output_type": "execute_result"
    }
   ],
   "source": [
    "decision_tree_model = DecisionTreeRegressor(random_state=42)\n",
    "decision_tree_model.fit(X_train_encoded, y_train)"
   ]
  },
  {
   "cell_type": "code",
   "execution_count": 94,
   "id": "ec13946b",
   "metadata": {},
   "outputs": [
    {
     "name": "stderr",
     "output_type": "stream",
     "text": [
      "c:\\Users\\malay\\AppData\\Local\\Programs\\Python\\Python311\\Lib\\site-packages\\sklearn\\base.py:458: UserWarning: X has feature names, but DecisionTreeRegressor was fitted without feature names\n",
      "  warnings.warn(\n"
     ]
    },
    {
     "ename": "ValueError",
     "evalue": "could not convert string to float: 'Drama'",
     "output_type": "error",
     "traceback": [
      "\u001b[1;31m---------------------------------------------------------------------------\u001b[0m",
      "\u001b[1;31mValueError\u001b[0m                                Traceback (most recent call last)",
      "\u001b[1;32mc:\\Users\\malay\\Downloads\\model_training 3.ipynb Cell 63\u001b[0m line \u001b[0;36m1\n\u001b[1;32m----> <a href='vscode-notebook-cell:/c%3A/Users/malay/Downloads/model_training%203.ipynb#Y115sZmlsZQ%3D%3D?line=0'>1</a>\u001b[0m y_pred \u001b[39m=\u001b[39m decision_tree_model\u001b[39m.\u001b[39;49mpredict(X_test)\n",
      "File \u001b[1;32mc:\\Users\\malay\\AppData\\Local\\Programs\\Python\\Python311\\Lib\\site-packages\\sklearn\\tree\\_classes.py:500\u001b[0m, in \u001b[0;36mBaseDecisionTree.predict\u001b[1;34m(self, X, check_input)\u001b[0m\n\u001b[0;32m    477\u001b[0m \u001b[39m\u001b[39m\u001b[39m\"\"\"Predict class or regression value for X.\u001b[39;00m\n\u001b[0;32m    478\u001b[0m \n\u001b[0;32m    479\u001b[0m \u001b[39mFor a classification model, the predicted class for each sample in X is\u001b[39;00m\n\u001b[1;32m   (...)\u001b[0m\n\u001b[0;32m    497\u001b[0m \u001b[39m    The predicted classes, or the predict values.\u001b[39;00m\n\u001b[0;32m    498\u001b[0m \u001b[39m\"\"\"\u001b[39;00m\n\u001b[0;32m    499\u001b[0m check_is_fitted(\u001b[39mself\u001b[39m)\n\u001b[1;32m--> 500\u001b[0m X \u001b[39m=\u001b[39m \u001b[39mself\u001b[39;49m\u001b[39m.\u001b[39;49m_validate_X_predict(X, check_input)\n\u001b[0;32m    501\u001b[0m proba \u001b[39m=\u001b[39m \u001b[39mself\u001b[39m\u001b[39m.\u001b[39mtree_\u001b[39m.\u001b[39mpredict(X)\n\u001b[0;32m    502\u001b[0m n_samples \u001b[39m=\u001b[39m X\u001b[39m.\u001b[39mshape[\u001b[39m0\u001b[39m]\n",
      "File \u001b[1;32mc:\\Users\\malay\\AppData\\Local\\Programs\\Python\\Python311\\Lib\\site-packages\\sklearn\\tree\\_classes.py:460\u001b[0m, in \u001b[0;36mBaseDecisionTree._validate_X_predict\u001b[1;34m(self, X, check_input)\u001b[0m\n\u001b[0;32m    458\u001b[0m \u001b[39melse\u001b[39;00m:\n\u001b[0;32m    459\u001b[0m     force_all_finite \u001b[39m=\u001b[39m \u001b[39mTrue\u001b[39;00m\n\u001b[1;32m--> 460\u001b[0m X \u001b[39m=\u001b[39m \u001b[39mself\u001b[39;49m\u001b[39m.\u001b[39;49m_validate_data(\n\u001b[0;32m    461\u001b[0m     X,\n\u001b[0;32m    462\u001b[0m     dtype\u001b[39m=\u001b[39;49mDTYPE,\n\u001b[0;32m    463\u001b[0m     accept_sparse\u001b[39m=\u001b[39;49m\u001b[39m\"\u001b[39;49m\u001b[39mcsr\u001b[39;49m\u001b[39m\"\u001b[39;49m,\n\u001b[0;32m    464\u001b[0m     reset\u001b[39m=\u001b[39;49m\u001b[39mFalse\u001b[39;49;00m,\n\u001b[0;32m    465\u001b[0m     force_all_finite\u001b[39m=\u001b[39;49mforce_all_finite,\n\u001b[0;32m    466\u001b[0m )\n\u001b[0;32m    467\u001b[0m \u001b[39mif\u001b[39;00m issparse(X) \u001b[39mand\u001b[39;00m (\n\u001b[0;32m    468\u001b[0m     X\u001b[39m.\u001b[39mindices\u001b[39m.\u001b[39mdtype \u001b[39m!=\u001b[39m np\u001b[39m.\u001b[39mintc \u001b[39mor\u001b[39;00m X\u001b[39m.\u001b[39mindptr\u001b[39m.\u001b[39mdtype \u001b[39m!=\u001b[39m np\u001b[39m.\u001b[39mintc\n\u001b[0;32m    469\u001b[0m ):\n\u001b[0;32m    470\u001b[0m     \u001b[39mraise\u001b[39;00m \u001b[39mValueError\u001b[39;00m(\u001b[39m\"\u001b[39m\u001b[39mNo support for np.int64 index based sparse matrices\u001b[39m\u001b[39m\"\u001b[39m)\n",
      "File \u001b[1;32mc:\\Users\\malay\\AppData\\Local\\Programs\\Python\\Python311\\Lib\\site-packages\\sklearn\\base.py:605\u001b[0m, in \u001b[0;36mBaseEstimator._validate_data\u001b[1;34m(self, X, y, reset, validate_separately, cast_to_ndarray, **check_params)\u001b[0m\n\u001b[0;32m    603\u001b[0m         out \u001b[39m=\u001b[39m X, y\n\u001b[0;32m    604\u001b[0m \u001b[39melif\u001b[39;00m \u001b[39mnot\u001b[39;00m no_val_X \u001b[39mand\u001b[39;00m no_val_y:\n\u001b[1;32m--> 605\u001b[0m     out \u001b[39m=\u001b[39m check_array(X, input_name\u001b[39m=\u001b[39;49m\u001b[39m\"\u001b[39;49m\u001b[39mX\u001b[39;49m\u001b[39m\"\u001b[39;49m, \u001b[39m*\u001b[39;49m\u001b[39m*\u001b[39;49mcheck_params)\n\u001b[0;32m    606\u001b[0m \u001b[39melif\u001b[39;00m no_val_X \u001b[39mand\u001b[39;00m \u001b[39mnot\u001b[39;00m no_val_y:\n\u001b[0;32m    607\u001b[0m     out \u001b[39m=\u001b[39m _check_y(y, \u001b[39m*\u001b[39m\u001b[39m*\u001b[39mcheck_params)\n",
      "File \u001b[1;32mc:\\Users\\malay\\AppData\\Local\\Programs\\Python\\Python311\\Lib\\site-packages\\sklearn\\utils\\validation.py:915\u001b[0m, in \u001b[0;36mcheck_array\u001b[1;34m(array, accept_sparse, accept_large_sparse, dtype, order, copy, force_all_finite, ensure_2d, allow_nd, ensure_min_samples, ensure_min_features, estimator, input_name)\u001b[0m\n\u001b[0;32m    913\u001b[0m         array \u001b[39m=\u001b[39m xp\u001b[39m.\u001b[39mastype(array, dtype, copy\u001b[39m=\u001b[39m\u001b[39mFalse\u001b[39;00m)\n\u001b[0;32m    914\u001b[0m     \u001b[39melse\u001b[39;00m:\n\u001b[1;32m--> 915\u001b[0m         array \u001b[39m=\u001b[39m _asarray_with_order(array, order\u001b[39m=\u001b[39;49morder, dtype\u001b[39m=\u001b[39;49mdtype, xp\u001b[39m=\u001b[39;49mxp)\n\u001b[0;32m    916\u001b[0m \u001b[39mexcept\u001b[39;00m ComplexWarning \u001b[39mas\u001b[39;00m complex_warning:\n\u001b[0;32m    917\u001b[0m     \u001b[39mraise\u001b[39;00m \u001b[39mValueError\u001b[39;00m(\n\u001b[0;32m    918\u001b[0m         \u001b[39m\"\u001b[39m\u001b[39mComplex data not supported\u001b[39m\u001b[39m\\n\u001b[39;00m\u001b[39m{}\u001b[39;00m\u001b[39m\\n\u001b[39;00m\u001b[39m\"\u001b[39m\u001b[39m.\u001b[39mformat(array)\n\u001b[0;32m    919\u001b[0m     ) \u001b[39mfrom\u001b[39;00m \u001b[39mcomplex_warning\u001b[39;00m\n",
      "File \u001b[1;32mc:\\Users\\malay\\AppData\\Local\\Programs\\Python\\Python311\\Lib\\site-packages\\sklearn\\utils\\_array_api.py:380\u001b[0m, in \u001b[0;36m_asarray_with_order\u001b[1;34m(array, dtype, order, copy, xp)\u001b[0m\n\u001b[0;32m    378\u001b[0m     array \u001b[39m=\u001b[39m numpy\u001b[39m.\u001b[39marray(array, order\u001b[39m=\u001b[39morder, dtype\u001b[39m=\u001b[39mdtype)\n\u001b[0;32m    379\u001b[0m \u001b[39melse\u001b[39;00m:\n\u001b[1;32m--> 380\u001b[0m     array \u001b[39m=\u001b[39m numpy\u001b[39m.\u001b[39masarray(array, order\u001b[39m=\u001b[39morder, dtype\u001b[39m=\u001b[39mdtype)\n\u001b[0;32m    382\u001b[0m \u001b[39m# At this point array is a NumPy ndarray. We convert it to an array\u001b[39;00m\n\u001b[0;32m    383\u001b[0m \u001b[39m# container that is consistent with the input's namespace.\u001b[39;00m\n\u001b[0;32m    384\u001b[0m \u001b[39mreturn\u001b[39;00m xp\u001b[39m.\u001b[39masarray(array)\n",
      "File \u001b[1;32mc:\\Users\\malay\\AppData\\Local\\Programs\\Python\\Python311\\Lib\\site-packages\\pandas\\core\\generic.py:2084\u001b[0m, in \u001b[0;36mNDFrame.__array__\u001b[1;34m(self, dtype)\u001b[0m\n\u001b[0;32m   2082\u001b[0m \u001b[39mdef\u001b[39;00m \u001b[39m__array__\u001b[39m(\u001b[39mself\u001b[39m, dtype: npt\u001b[39m.\u001b[39mDTypeLike \u001b[39m|\u001b[39m \u001b[39mNone\u001b[39;00m \u001b[39m=\u001b[39m \u001b[39mNone\u001b[39;00m) \u001b[39m-\u001b[39m\u001b[39m>\u001b[39m np\u001b[39m.\u001b[39mndarray:\n\u001b[0;32m   2083\u001b[0m     values \u001b[39m=\u001b[39m \u001b[39mself\u001b[39m\u001b[39m.\u001b[39m_values\n\u001b[1;32m-> 2084\u001b[0m     arr \u001b[39m=\u001b[39m np\u001b[39m.\u001b[39;49masarray(values, dtype\u001b[39m=\u001b[39;49mdtype)\n\u001b[0;32m   2085\u001b[0m     \u001b[39mif\u001b[39;00m (\n\u001b[0;32m   2086\u001b[0m         astype_is_view(values\u001b[39m.\u001b[39mdtype, arr\u001b[39m.\u001b[39mdtype)\n\u001b[0;32m   2087\u001b[0m         \u001b[39mand\u001b[39;00m using_copy_on_write()\n\u001b[0;32m   2088\u001b[0m         \u001b[39mand\u001b[39;00m \u001b[39mself\u001b[39m\u001b[39m.\u001b[39m_mgr\u001b[39m.\u001b[39mis_single_block\n\u001b[0;32m   2089\u001b[0m     ):\n\u001b[0;32m   2090\u001b[0m         \u001b[39m# Check if both conversions can be done without a copy\u001b[39;00m\n\u001b[0;32m   2091\u001b[0m         \u001b[39mif\u001b[39;00m astype_is_view(\u001b[39mself\u001b[39m\u001b[39m.\u001b[39mdtypes\u001b[39m.\u001b[39miloc[\u001b[39m0\u001b[39m], values\u001b[39m.\u001b[39mdtype) \u001b[39mand\u001b[39;00m astype_is_view(\n\u001b[0;32m   2092\u001b[0m             values\u001b[39m.\u001b[39mdtype, arr\u001b[39m.\u001b[39mdtype\n\u001b[0;32m   2093\u001b[0m         ):\n",
      "\u001b[1;31mValueError\u001b[0m: could not convert string to float: 'Drama'"
     ]
    }
   ],
   "source": [
    "y_pred = decision_tree_model.predict(X_test)"
   ]
  },
  {
   "cell_type": "code",
   "execution_count": 95,
   "id": "aee4ae25",
   "metadata": {},
   "outputs": [
    {
     "name": "stdout",
     "output_type": "stream",
     "text": [
      "MAE: 1.0218808396191303\n",
      "MSE: 1.8470880300778345\n",
      "R-squared: -0.11215796419113788\n"
     ]
    }
   ],
   "source": [
    "mae = mean_absolute_error(y_test, y_pred)\n",
    "mse = mean_squared_error(y_test, y_pred)\n",
    "r2 = r2_score(y_test, y_pred)\n",
    "\n",
    "print(f\"MAE: {mae}\")\n",
    "print(f\"MSE: {mse}\")\n",
    "print(f\"R-squared: {r2}\")"
   ]
  },
  {
   "cell_type": "code",
   "execution_count": 96,
   "id": "955bf64d",
   "metadata": {},
   "outputs": [],
   "source": [
    "def predict_rating_for_genre1(new_genre):\n",
    "    new_genre_encoded = encoder.transform([[new_genre]])\n",
    "    predicted_rating = model.predict(new_genre_encoded)\n",
    "    return round(predicted_rating[0], 1)"
   ]
  },
  {
   "cell_type": "code",
   "execution_count": 97,
   "id": "e7b52cf2",
   "metadata": {},
   "outputs": [
    {
     "name": "stderr",
     "output_type": "stream",
     "text": [
      "c:\\Users\\malay\\AppData\\Local\\Programs\\Python\\Python311\\Lib\\site-packages\\sklearn\\base.py:465: UserWarning: X does not have valid feature names, but OneHotEncoder was fitted with feature names\n",
      "  warnings.warn(\n"
     ]
    },
    {
     "data": {
      "text/plain": [
       "5.6"
      ]
     },
     "execution_count": 97,
     "metadata": {},
     "output_type": "execute_result"
    }
   ],
   "source": [
    "predict_rating_for_genre1(\"Action\")"
   ]
  },
  {
   "cell_type": "code",
   "execution_count": 98,
   "id": "3ee46923",
   "metadata": {},
   "outputs": [
    {
     "name": "stderr",
     "output_type": "stream",
     "text": [
      "c:\\Users\\malay\\AppData\\Local\\Programs\\Python\\Python311\\Lib\\site-packages\\sklearn\\base.py:465: UserWarning: X does not have valid feature names, but OneHotEncoder was fitted with feature names\n",
      "  warnings.warn(\n"
     ]
    },
    {
     "data": {
      "text/plain": [
       "6.1"
      ]
     },
     "execution_count": 98,
     "metadata": {},
     "output_type": "execute_result"
    }
   ],
   "source": [
    "predict_rating_for_genre1(\"Drama\")"
   ]
  },
  {
   "cell_type": "code",
   "execution_count": 99,
   "id": "661403d5",
   "metadata": {},
   "outputs": [
    {
     "name": "stderr",
     "output_type": "stream",
     "text": [
      "c:\\Users\\malay\\AppData\\Local\\Programs\\Python\\Python311\\Lib\\site-packages\\sklearn\\base.py:465: UserWarning: X does not have valid feature names, but OneHotEncoder was fitted with feature names\n",
      "  warnings.warn(\n"
     ]
    },
    {
     "data": {
      "text/plain": [
       "6.1"
      ]
     },
     "execution_count": 99,
     "metadata": {},
     "output_type": "execute_result"
    }
   ],
   "source": [
    "predict_rating_for_genre1(\"Animation\")"
   ]
  }
 ],
 "metadata": {
  "kernelspec": {
   "display_name": "Python 3 (ipykernel)",
   "language": "python",
   "name": "python3"
  },
  "language_info": {
   "codemirror_mode": {
    "name": "ipython",
    "version": 3
   },
   "file_extension": ".py",
   "mimetype": "text/x-python",
   "name": "python",
   "nbconvert_exporter": "python",
   "pygments_lexer": "ipython3",
   "version": "3.11.3"
  }
 },
 "nbformat": 4,
 "nbformat_minor": 5
}
