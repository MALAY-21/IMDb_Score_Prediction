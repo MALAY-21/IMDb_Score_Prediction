{
 "cells": [
  {
   "cell_type": "code",
   "execution_count": null,
   "id": "b5dd652b-b639-49ae-a042-4590d3bfb483",
   "metadata": {},
   "outputs": [],
   "source": [
    "from pymongo import MongoClient"
   ]
  },
  {
   "cell_type": "code",
   "execution_count": null,
   "id": "5d4eaec9-8b8d-4160-9084-b5ba8e4a3143",
   "metadata": {},
   "outputs": [],
   "source": [
    "import pandas as pd"
   ]
  },
  {
   "cell_type": "code",
   "execution_count": null,
   "id": "659194df-db9c-437f-8c13-94061cc625be",
   "metadata": {},
   "outputs": [],
   "source": [
    "client = MongoClient('mongodb://localhost:27017/')"
   ]
  },
  {
   "cell_type": "code",
   "execution_count": null,
   "id": "8f9be6f6-4130-490b-8584-612eda59db84",
   "metadata": {},
   "outputs": [],
   "source": [
    "client.list_database_names()"
   ]
  },
  {
   "cell_type": "code",
   "execution_count": null,
   "id": "f2fc23f6-673c-462e-aecd-a891a59e875c",
   "metadata": {},
   "outputs": [],
   "source": [
    "db = client[\"Ma-Sa-La\"]"
   ]
  },
  {
   "cell_type": "code",
   "execution_count": null,
   "id": "b9fe420a-fad0-4687-9f8f-5186dde2fab4",
   "metadata": {},
   "outputs": [],
   "source": [
    "collection = db[\"a2021\"]"
   ]
  },
  {
   "cell_type": "code",
   "execution_count": null,
   "id": "2cd75268-b670-4d49-857e-ceccd5b12ad6",
   "metadata": {},
   "outputs": [],
   "source": [
    "a2021 = db[\"a2021\"]"
   ]
  },
  {
   "cell_type": "code",
   "execution_count": null,
   "id": "0bad6e28-7bd1-4904-bbac-fad1eae43d71",
   "metadata": {},
   "outputs": [],
   "source": [
    "a2021.count_documents({})"
   ]
  },
  {
   "cell_type": "code",
   "execution_count": null,
   "id": "a838ca67-092d-4343-9394-fd1d0e92a1d8",
   "metadata": {},
   "outputs": [],
   "source": [
    "for st in a2021.find():\n",
    "    print(st)"
   ]
  },
  {
   "cell_type": "code",
   "execution_count": null,
   "id": "f24c3323-9f1d-4e89-b605-cfae769d573b",
   "metadata": {},
   "outputs": [],
   "source": [
    "df = pd.DataFrame(list(a2021.find()))"
   ]
  },
  {
   "cell_type": "code",
   "execution_count": null,
   "id": "74d325c1-dce8-47d8-b15c-439c891d9e9f",
   "metadata": {},
   "outputs": [],
   "source": [
    "df.head()"
   ]
  },
  {
   "cell_type": "code",
   "execution_count": null,
   "id": "94401f1c-5373-444b-811e-fd2927a784cc",
   "metadata": {},
   "outputs": [],
   "source": [
    "df[['genre', 'genre1', 'genre2']].describe(include='all')"
   ]
  },
  {
   "cell_type": "code",
   "execution_count": null,
   "id": "b91469ad-5691-477a-bf43-c82ebd9bfb2c",
   "metadata": {},
   "outputs": [],
   "source": [
    "# Analyzing the director and cast pairings\n",
    "director_cast_df = df[['Director Name', 'Cast-1 Name', 'Cast-2 Name', 'Cast-3 Name', 'Cast-4 Name']]\n",
    "\n",
    "# Grouping by director and cast names to find common pairings\n",
    "director_cast_grouped = director_cast_df.groupby(['Director Name', 'Cast-1 Name', 'Cast-2 Name', 'Cast-3 Name', 'Cast-4 Name']).size().reset_index(name='Count')\n",
    "\n",
    "# Sorting the pairings by frequency\n",
    "director_cast_grouped.sort_values(by='Count', ascending=False).head()"
   ]
  },
  {
   "cell_type": "code",
   "execution_count": null,
   "id": "d7ed2b09-7119-4fc7-8584-3c8375b9ad91",
   "metadata": {},
   "outputs": [],
   "source": [
    "# Analyzing the top 5 genres\n",
    "# We will count the occurrences of each genre and genre1, genre2 combinations\n",
    "genre_counts = df['genre'].str.strip().value_counts().head(5)\n",
    "genre1_counts = df['genre1'].str.strip().value_counts().head(5)\n",
    "genre2_counts = df['genre2'].str.strip().value_counts().head(5)\n",
    "\n",
    "# Display the top 5 genres for each genre column\n",
    "print('Top 5 genres:')\n",
    "print(genre_counts)\n",
    "print('\\nTop 5 genre1:')\n",
    "print(genre1_counts)\n",
    "print('\\nTop 5 genre2:')\n",
    "print(genre2_counts)"
   ]
  },
  {
   "cell_type": "code",
   "execution_count": null,
   "id": "d6df3adb-622b-47c8-9429-633ad2ed1a7e",
   "metadata": {},
   "outputs": [],
   "source": [
    "# Analyzing the most common director and cast pairs\n",
    "# We will create a new column that combines director name and the names of the first two cast members\n",
    "df['director_cast_pair'] = df['Director Name'] + ', ' + df['Cast-1 Name'] + ', ' + df['Cast-2 Name']\n",
    "\n",
    "# Now we count the occurrences of each pair\n",
    "director_cast_pair_counts = df['director_cast_pair'].value_counts().head(5)\n",
    "\n",
    "# Display the top 5 director and cast pairs\n",
    "print('Top 5 director and cast pairs:')\n",
    "print(director_cast_pair_counts)"
   ]
  },
  {
   "cell_type": "markdown",
   "id": "c425be0a-d087-4ce0-810c-6d6c88ca5c01",
   "metadata": {},
   "source": [
    "# Bar Graph"
   ]
  },
  {
   "cell_type": "code",
   "execution_count": null,
   "id": "01f5990d-2a18-49a0-87ce-ac3045b6f61f",
   "metadata": {},
   "outputs": [],
   "source": [
    "import matplotlib.pyplot as plt\n",
    "\n",
    "# Combine all genre columns into a single series\n",
    "all_genres = pd.concat([df['genre'].str.strip(), df['genre1'].str.strip(), df['genre2'].str.strip()])\n",
    "\n",
    "# Count the occurrences of each genre\n",
    "genre_counts_combined = all_genres.value_counts()\n",
    "\n",
    "# Plot the genre graph\n",
    "plt.figure(figsize=(10, 8))\n",
    "genre_counts_combined.head(10).plot(kind='bar')\n",
    "plt.title('Top 10 Genres')\n",
    "plt.xlabel('Genre')\n",
    "plt.ylabel('Frequency')\n",
    "plt.xticks(rotation=45)\n",
    "plt.tight_layout()\n",
    "plt.show()"
   ]
  },
  {
   "cell_type": "markdown",
   "id": "9d38b277-ff29-4bca-ac4f-f60cfb4716e2",
   "metadata": {},
   "source": [
    "# Pie Chart"
   ]
  },
  {
   "cell_type": "code",
   "execution_count": null,
   "id": "b62be20b-e2c7-414c-b0bf-da4023a02f09",
   "metadata": {},
   "outputs": [],
   "source": [
    "# Generate a pie chart for the genre distribution\n",
    "\n",
    "# We will use the combined genre counts for this\n",
    "plt.figure(figsize=(10, 8))\n",
    "genre_counts_combined.head(10).plot(kind='pie', autopct='%1.1f%%')\n",
    "plt.title('Genre Distribution - Top 10')\n",
    "plt.ylabel('')  # Hide the y-label\n",
    "plt.show()"
   ]
  }
 ],
 "metadata": {
  "kernelspec": {
   "display_name": "Python 3 (ipykernel)",
   "language": "python",
   "name": "python3"
  },
  "language_info": {
   "codemirror_mode": {
    "name": "ipython",
    "version": 3
   },
   "file_extension": ".py",
   "mimetype": "text/x-python",
   "name": "python",
   "nbconvert_exporter": "python",
   "pygments_lexer": "ipython3",
   "version": "3.11.3"
  }
 },
 "nbformat": 4,
 "nbformat_minor": 5
}
